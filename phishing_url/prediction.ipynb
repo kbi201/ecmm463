{
 "cells": [
  {
   "cell_type": "markdown",
   "metadata": {},
   "source": [
    "# Phishing Network Code"
   ]
  },
  {
   "cell_type": "code",
   "execution_count": 64,
   "metadata": {},
   "outputs": [
    {
     "name": "stderr",
     "output_type": "stream",
     "text": [
      "[nltk_data] Downloading package stopwords to\n",
      "[nltk_data]     C:\\Users\\gichu\\AppData\\Roaming\\nltk_data...\n",
      "[nltk_data]   Package stopwords is already up-to-date!\n"
     ]
    }
   ],
   "source": [
    "import networkx as nx\n",
    "import re, os, pickle, gzip, warnings, nltk\n",
    "import matplotlib.pyplot as plt\n",
    "import pandas as pd\n",
    "import numpy as np\n",
    "import warnings\n",
    "import pandas as pd\n",
    "import matplotlib.pyplot as plt\n",
    "import networkx as nx\n",
    "\n",
    "from node2vec import Node2Vec\n",
    "from urllib.parse import urlparse\n",
    "from sklearn.model_selection import KFold\n",
    "from sklearn.ensemble import RandomForestClassifier\n",
    "from datetime import datetime\n",
    "from tqdm import tqdm\n",
    "from gensim.models import Word2Vec\n",
    "from gensim.models import KeyedVectors\n",
    "from nltk.corpus import stopwords\n",
    "from dotenv import load_dotenv\n",
    "\n",
    "warnings.filterwarnings(action='ignore', category=UserWarning, module='gensim')\n",
    "load_dotenv()\n",
    "nltk.download('stopwords') # download stop words\n",
    "stop_words = set(stopwords.words('english'))\n",
    "PATH = os.environ[\"_path\"]\n"
   ]
  },
  {
   "cell_type": "markdown",
   "metadata": {},
   "source": [
    "### Undersampling to handle Class imbalances"
   ]
  },
  {
   "cell_type": "code",
   "execution_count": 76,
   "metadata": {},
   "outputs": [
    {
     "name": "stdout",
     "output_type": "stream",
     "text": [
      "label\n",
      "good    344821\n",
      "bad      75643\n",
      "Name: count, dtype: int64\n"
     ]
    },
    {
     "data": {
      "text/plain": [
       "label\n",
       "good    5000\n",
       "bad     5000\n",
       "Name: count, dtype: int64"
      ]
     },
     "execution_count": 76,
     "metadata": {},
     "output_type": "execute_result"
    }
   ],
   "source": [
    "df = pd.read_csv(PATH + \"data.csv\", names=['url', 'label'], skiprows=1)\n",
    "print(df['label'].value_counts()) # intial label distribtution\n",
    "\n",
    "df_bad = df[df['label'] == 'bad'][:5000]\n",
    "df_good = df[df['label'] == 'good']\n",
    "\n",
    "df_bad_undersampled= df_bad.sample(n=(len(df_bad)), random_state=42) # underample maj class\n",
    "df_good_undersampled= df_good.sample(n=len(df_bad_undersampled), random_state=42) # underample maj class\n",
    "\n",
    "df_balanced = pd.concat([df_bad_undersampled, df_good_undersampled], axis=0) # combine the df\n",
    "df = df_balanced.sample(frac=1, random_state=42).reset_index(drop=True)\n",
    "df['label'].value_counts()\n"
   ]
  },
  {
   "cell_type": "markdown",
   "metadata": {},
   "source": [
    "### constructing graph using networkx lib where nodes created: URL, Domain, Words\n",
    "- also creating network embedding later to be used to measure distances"
   ]
  },
  {
   "cell_type": "code",
   "execution_count": 77,
   "metadata": {},
   "outputs": [
    {
     "name": "stderr",
     "output_type": "stream",
     "text": [
      "Computing transition probabilities: 100%|██████████| 35275/35275 [01:36<00:00, 365.03it/s]\n"
     ]
    },
    {
     "name": "stdout",
     "output_type": "stream",
     "text": [
      "Graph complete.\n"
     ]
    }
   ],
   "source": [
    "\"\"\"\n",
    "This function segments URL into words\n",
    "    - removes stop words based on length\n",
    "    - removes special characters from query string\n",
    "    - splist domain into components\n",
    "\n",
    "Returns:\n",
    "    A set of words used in the URL\n",
    "\n",
    "\"\"\"\n",
    "def segment_url(url):\n",
    "\n",
    "    words = set()\n",
    "    parsed = urlparse(url)\n",
    "    \n",
    "    # Segment the hostname\n",
    "    if parsed.hostname:\n",
    "        words.update(parsed.hostname.split('.'))\n",
    "\n",
    "    # Segment the path using punctuation symbols\n",
    "    if parsed.path:\n",
    "        words.update(re.split(r'[\\/.!&,#$%;&]', parsed.path))\n",
    "\n",
    "    # Segment the query string\n",
    "    if parsed.query:\n",
    "        queries = parsed.query.split('&')\n",
    "        for query in queries:\n",
    "            key_value = query.split('=')\n",
    "            if len(key_value) == 2:\n",
    "                words.add(key_value[0])\n",
    "                words.add(key_value[1])\n",
    "\n",
    "    # Remove empty strings and stop words\n",
    "    words = {word for word in words if word and len(word) > 1 and word not in stop_words}  \n",
    "    return words\n",
    "\n",
    "\"\"\"\n",
    "This function to adds nodes and edges as defined in research paper:\n",
    "edges between\n",
    "    - URL -> DOMAIN\n",
    "    - URL -> WORDS\n",
    "    - DOMAIN -> authoritative name servers.\n",
    "\n",
    "Returns:\n",
    "    N/A\n",
    "\"\"\"\n",
    "def add_to_graph(g, url_entry):\n",
    "    url = url_entry[\"url\"] # fetch url\n",
    "    if not url.startswith((\"http://\", \"https://\")): url = \"http://\" + url\n",
    "    parsed = urlparse(url) # parse the url\n",
    "    #print(parsed)\n",
    "\n",
    "    # Create URL node\n",
    "    url_node = f\"{url}\" # URL\n",
    "    g.add_node(url_node, type=\"URL\")\n",
    "    #print(url)\n",
    "\n",
    "    # adding edge from URL to DOMAIN\n",
    "    if parsed.hostname:\n",
    "        domain_node = f\"{parsed.hostname}\" # domain\n",
    "\n",
    "        # Check if the domain node already exists in the graph, and add if not exist else reuse the domain\n",
    "        if not g.has_node(domain_node):\n",
    "            g.add_node(domain_node, type=\"Domain\")  \n",
    "\n",
    "        g.add_edge(url_node, domain_node)\n",
    "\n",
    "    # Draw an edge between a URL (i.e., sentence) and a substring (i.e., word)\n",
    "    # Segment URL into words and create nodes for each word\n",
    "    words = segment_url(url)\n",
    "    for word in words:\n",
    "        word_node = f\"{word}\"\n",
    "        g.add_node(word_node, type=\"Word\") # word\n",
    "        g.add_edge(url_node, word_node)\n",
    "        \n",
    "# visualise the graph plot\n",
    "def visualise_graph(graph):\n",
    "    pos = nx.spring_layout(graph)  # Define layout\n",
    "    plt.figure(figsize=(16, 16))\n",
    "\n",
    "    # Draw nodes with different colors based on their type\n",
    "    url_nodes = [n for n, attr in graph.nodes(data=True) if attr.get('type') == 'URL']\n",
    "    domain_nodes = [n for n, attr in graph.nodes(data=True) if attr.get('type') == 'Domain']\n",
    "    word_nodes = [n for n, attr in graph.nodes(data=True) if attr.get('type') == 'Word']\n",
    "\n",
    "    nx.draw_networkx_nodes(graph, pos, nodelist=url_nodes, node_size=400, node_color=\"blue\", label=\"URLs\")\n",
    "    nx.draw_networkx_nodes(graph, pos, nodelist=domain_nodes, node_size=500, node_color=\"green\", label=\"Domains\")\n",
    "    nx.draw_networkx_nodes(graph, pos, nodelist=word_nodes, node_size=200, node_color=\"red\", label=\"Words\")\n",
    "\n",
    "    # Draw edges and labels\n",
    "    nx.draw_networkx_edges(graph, pos, edge_color=\"gray\", alpha=0.5)\n",
    "    nx.draw_networkx_labels(graph, pos, font_size=10, font_color=\"black\")\n",
    "\n",
    "    plt.title(\"Graph Visualization\")\n",
    "    plt.legend(scatterpoints=1, loc=\"upper right\", fontsize=10)\n",
    "    plt.show()\n",
    "\n",
    "def save_nodes_and_embeddings(g, dim=64, walk=10, n_walk=100, workers=4):\n",
    "\n",
    "    # Create and save node2vec embeddings\n",
    "    node2vec = Node2Vec(g, dimensions=dim, walk_length=walk, num_walks=n_walk, workers=workers)\n",
    "    model = node2vec.fit()\n",
    "\n",
    "    # save data to data/ dir\n",
    "    with gzip.open(PATH + 'graph.gzpickle', 'wb') as f:\n",
    "        pickle.dump(g, f)\n",
    "\n",
    "    with gzip.open(PATH + \"graph_embeddings.emb.gzpickle\", 'wb') as f:\n",
    "        pickle.dump(model.wv, f)  # Saving the word embeddings\n",
    "\n",
    "    print(\"Graph complete.\")\n",
    "\n",
    "#  init Create graph ..\n",
    "g = nx.Graph()\n",
    "for idx, row in df.iterrows():\n",
    "    add_to_graph(g, row)\n",
    "\n",
    "save_nodes_and_embeddings(g)\n",
    "\n"
   ]
  },
  {
   "cell_type": "markdown",
   "metadata": {},
   "source": [
    "# Belief Propogation Algorithm"
   ]
  },
  {
   "cell_type": "code",
   "execution_count": 78,
   "metadata": {},
   "outputs": [],
   "source": [
    "\n",
    "\n",
    "class prediction:\n",
    "    def __init__(self, type_emb, type_sim, type_compat, compat_threshold1, compat_threshold2, N_FOLDS, max_epochs):\n",
    "            # type_compat = 'table1', 'table2', 'table3'\n",
    "            # type_emb = None, 'deepwalk', 'node2vec', 'doc2vec', 'word2vec'\n",
    "            # compat_threshold1, 2 = None, 0.3, 0.5, 0.7\n",
    "            # type_sim = None, 'rbf', 'minmax', 'cos'\n",
    "            # ct_type = 'ct1_2', 'ct1_3', 'ct1_4', 'ct2', 'ct3_2', 'ct3_3', 'ct3_4'\n",
    "            self.type_emb = type_emb\n",
    "            self.type_sim = type_sim\n",
    "            self.type_compat = type_compat\n",
    "            self.compat_threshold1 = compat_threshold1\n",
    "            self.compat_threshold2 = compat_threshold2\n",
    "            self.N_FOLDS = N_FOLDS\n",
    "            self.max_epochs = max_epochs\n",
    "            self.g = None\n",
    "\n",
    "\n",
    "    def test_evasion(self, g, evasion_set):\n",
    "\n",
    "        #print(\"start\")\n",
    "        for test_url in evasion_set:\n",
    "            add_to_graph(g, test_url)\n",
    "\n",
    "        save_nodes_and_embeddings(g)\n",
    "        print(\"Test nodes added to Graph\")\n",
    "        \n",
    "\n",
    "    \"\"\"\n",
    "    we are using dataset found in  https://raw.githubusercontent.com/faizann24/Using-machine-learning-to-detect-malicious-URLs/refs/heads/master/data/data.csv\n",
    "    this does not use community truth but are labelled good/bad\n",
    "        - we therefore remove community truths as wont be used\n",
    "    \"\"\"\n",
    "    def main(self):\n",
    "        \n",
    "        print(\"Reading data ...\")\n",
    "        # read ground truth data and graph g\n",
    "        g = pickle.load(gzip.open(PATH + 'graph.gzpickle', 'rb')) \n",
    "        self.g = g\n",
    "        #url_truth = pd.read_csv(PATH + \"subset_of_data.csv\", names=['url', 'label'], skiprows=1)\n",
    "        #data = url_truth['url'].to_list()\n",
    "\n",
    "        url_truth = df\n",
    "        data = url_truth['url'].to_list()\n",
    "        has_ground_truth  = set(data)\n",
    "        print(\"Done ...\")\n",
    "\n",
    "\n",
    "        kf = KFold(n_splits=self.N_FOLDS, shuffle=True)\n",
    "        precision_sum = float(0)\n",
    "        recall_sum = float(0)\n",
    "        f1score_sum = float(0)\n",
    "        accuracy_sum = float(0)\n",
    "\n",
    "        print(\"Starting {}-fold cross-validation\".format(self.N_FOLDS))\n",
    "        for train, test in kf.split(data): # iterating through each fold\n",
    "\n",
    "            # spliting into traniing and testing set for each fold\n",
    "            training_set = set(np.array(data)[train])\n",
    "            test_set = set(np.array(data)[test])\n",
    "\n",
    "            # split training&test set to each class(rel/irrel)\n",
    "            relevant_training = set()\n",
    "            irrelevant_training = set()\n",
    "            relevant_test = set()\n",
    "            irrelevant_test = set()\n",
    "\n",
    "\n",
    "            # node == url in the training set\n",
    "            \"\"\"\n",
    "            \n",
    "            \"\"\"\n",
    "            for node in training_set:\n",
    "\n",
    "                # checking df for circumstances where urls match, returning label field, with first occurence (we assume one occurence of each url anyways)\n",
    "                if url_truth.loc[url_truth['url'] == node, 'label'].values[0] == \"bad\":\n",
    "                    relevant_training.add(node)\n",
    "                elif  url_truth.loc[url_truth['url'] == node, 'label'].values[0] == \"good\":\n",
    "                    irrelevant_training.add(node)\n",
    "                else:\n",
    "                    print(\"error: ground truth error\")\n",
    "\n",
    "            for node in test_set:\n",
    "                if url_truth.loc[url_truth['url'] == node, 'label'].values[0] == \"bad\":\n",
    "                    relevant_test.add(node)\n",
    "                elif  url_truth.loc[url_truth['url'] == node, 'label'].values[0] == \"good\":\n",
    "                    irrelevant_test.add(node)\n",
    "                else:\n",
    "                    print(\"error: ground truth error\")\n",
    "\n",
    "            \n",
    "            # initilize node label\n",
    "            for node in g.nodes():\n",
    "                g.nodes[node]['label'] = None\n",
    "                g.nodes[node]['best_label'] = -1\n",
    "                g.nodes[node]['data_cost'] = [0.5, 0.5] # default beliefs about being phishy or beneign following polonium heurisitic\n",
    "\n",
    "                # msg box is a dict\n",
    "                g.nodes[node]['msgbox'] = {} # this will maintain a list of each message being passed to each neighbour\n",
    "                g.nodes[node]['msg_comp'] = [0, 0] # initialising iysmessages to be passed onto the neighbours\n",
    "                for nbr in list(g.neighbors(node)):\n",
    "                    g.nodes[node]['msgbox'][nbr] = [0, 0] \n",
    "    \n",
    "            \"\"\"\n",
    "            for each node belonging in the training set we want to give it a label where \n",
    "            according to the paper, hidden variables are not known entities thus do not have\n",
    "            labels\n",
    "\n",
    "            note that instead of 0,1, our dataset used good and bad labels. so bad = 1, good = 0\n",
    "            \"\"\"\n",
    "            \n",
    "            mal = 0 # malicious counter\n",
    "            bn = 0 # beniegn counter\n",
    "            #print(training_set)\n",
    "\n",
    "            for node in has_ground_truth:\n",
    "\n",
    "                # labelling training set and givinginit potentials\n",
    "                if node in training_set:\n",
    "\n",
    "                    \n",
    "                    domain_node = node\n",
    "                    # graph formatted to include https ../\n",
    "                    if not domain_node.startswith((\"http://\", \"https://\")): \n",
    "                        domain_node = \"http://\" + node\n",
    "\n",
    "                    #print(node, domain_node)\n",
    "\n",
    "                    g.nodes[domain_node]['label'] = 1 if url_truth.loc[url_truth['url'] == node, 'label'].values[0] == \"bad\" else 0\n",
    "                    if g.nodes[domain_node]['label'] == 1:      # malicious\n",
    "                        g.nodes[domain_node]['data_cost'] = [0.99, 0.01] # we know is malicious so start at 0.99, 0.1\n",
    "                        mal+=1\n",
    "                    elif g.nodes[domain_node]['label'] == 0:    # benign\n",
    "                        g.nodes[domain_node]['data_cost'] = [0.01, 0.99]\n",
    "                        bn+=1\n",
    "\n",
    "            print(mal,bn) # show split of malicious and benign nodes\n",
    "\n",
    "\n",
    "            \"\"\" \n",
    "            SETTING distances for all edges\n",
    "            so it looks like embeddings are loaded in seperately from the graph rather than embedding graph nodes themselves?, looks optional however\n",
    "            \"\"\"\n",
    "            if self.type_emb == 'None':\n",
    "                self.type_emb = None\n",
    "\n",
    "            if self.type_emb != None:\n",
    "\n",
    "                with gzip.open(PATH + \"graph_embeddings.emb.gzpickle\", 'rb') as f:\n",
    "                    emb = pickle.load(f)\n",
    "\n",
    "                min_dist = float(\"inf\")\n",
    "                max_dist = -float(\"inf\")\n",
    "                \n",
    "                \"\"\"\n",
    "                calculating distance of nodes which will later be used to calc similarity in edge potentails, weher that is equclidian distance etc ..\n",
    "                \"\"\"\n",
    "                for edge in g.edges():\n",
    "\n",
    "                    if self.type_sim == 'minmax':\n",
    "                        # euclidean distance\n",
    "                        g.edges[edge]['distance'] = np.linalg.norm(emb[edge[0]] - emb[edge[1]])\n",
    "                        if g.edges[edge]['distance'] > max_dist:\n",
    "                            max_dist = g.edges[edge]['distance']\n",
    "                        if g.edges[edge]['distance'] < min_dist:\n",
    "                            min_dist = g.edges[edge]['distance']\n",
    "                    elif self.type_sim == 'cos':\n",
    "                        # cosine similarity\n",
    "                        g.edges[edge]['sim'] = (np.dot(emb[edge[0]], emb[edge[1]]) / (np.linalg.norm(emb[edge[0]]) * np.linalg.norm(emb[edge[1]])))\n",
    "                        g.edges[edge]['distance'] = 1 - g.edges[edge]['sim']\n",
    "                    elif self.type_sim == 'rbf':\n",
    "                        # euclidean distance\n",
    "                        g.edges[edge]['distance'] = np.linalg.norm(emb[edge[0]] - emb[edge[1]])\n",
    "                        # rbf sim (see: https://en.wikipedia.org/wiki/Radial_basis_function_kernel )\n",
    "                        g.edges[edge]['sim'] = np.exp((-1.0 / 2.0) * np.power(g.edges[edge]['distance'], 2.0))\n",
    "\n",
    "                if self.type_sim == 'minmax':\n",
    "                    for edge in g.edges():\n",
    "                        g.edges[edge]['sim'] = 1 - np.divide((g.edges[edge]['distance'] - min_dist), max_dist-min_dist)\n",
    "                \n",
    "                print(\"embedding done\")\n",
    "            # if type_emb not provided...\n",
    "            else:\n",
    "                # set initial messages\n",
    "                for edge in g.edges():\n",
    "                    #g.edges[edge]['msg'] = [0, 0]\n",
    "                    g.edges[edge]['distance'] = 1.0\n",
    "                    g.edges[edge]['sim'] = 0.5\n",
    "\n",
    "            print(\"Done.\")\n",
    "\n",
    "            \"\"\"\n",
    "            This is the actual belief propogation section of the algorithm, which loops for max_epochs\n",
    "            number of iterations performing the following:\n",
    "                - \n",
    "            \"\"\"\n",
    "            for epoch in range(self.max_epochs):\n",
    "                precision = float(0)\n",
    "                recall = float(0)\n",
    "                f1score = float(0)\n",
    "                accuracy = float(0)\n",
    "\n",
    "                #visualise_graph(g)\n",
    "                self.step(g)\n",
    "                print(\"Iteration: {} MAP: {}\".format(epoch + 1, self.MAP(g)))\n",
    "                #visualisie_graph(g)\n",
    "\n",
    "\n",
    "                #print(relevant_test, \"\\n\")\n",
    "                #print(g.nodes)\n",
    "\n",
    "                relevant_correctness = 0\n",
    "                relevant_incorrectness = 0\n",
    "                for i in relevant_test:\n",
    "                    if not i.startswith((\"http://\", \"https://\")): \n",
    "                        i = \"http://\" + i\n",
    "                        \n",
    "                    if g.nodes[i]['best_label'] == 1:\n",
    "                        relevant_correctness += 1\n",
    "                    else:\n",
    "                        relevant_incorrectness += 1\n",
    "\n",
    "                irrelevant_correctness = 0\n",
    "                irrelevant_incorrectness = 0\n",
    "                for i in irrelevant_test:\n",
    "                    if not i.startswith((\"http://\", \"https://\")): \n",
    "                        i = \"http://\" + i\n",
    "                        \n",
    "\n",
    "                    if g.nodes[i]['best_label'] == 0:\n",
    "                        irrelevant_correctness += 1\n",
    "                    else:\n",
    "                        irrelevant_incorrectness += 1\n",
    "\n",
    "                print(\"rel_cor: \" + str(relevant_correctness))\n",
    "                print(\"rel_incor: \" + str(relevant_incorrectness))\n",
    "                print(\"irrel_cor: \" + str(irrelevant_correctness))\n",
    "                print(\"irrel_incor: \" + str(irrelevant_incorrectness))\n",
    "\n",
    "                print(\"Relevant Accuracy: {:.6}\".format(relevant_correctness / (relevant_correctness + relevant_incorrectness)))\n",
    "                print(\"Irrelevant Accuracy: {:.6}\".format(irrelevant_correctness / (irrelevant_correctness + irrelevant_incorrectness)))\n",
    "\n",
    "                if (relevant_correctness + irrelevant_incorrectness) == 0:\n",
    "                    precision = float(0)\n",
    "                else:\n",
    "                    precision = relevant_correctness / (relevant_correctness + irrelevant_incorrectness)\n",
    "                print(\"Precision: {:.6}\".format(precision))\n",
    "\n",
    "                if (relevant_correctness + relevant_incorrectness) == 0:\n",
    "                    recall = float(0)\n",
    "                else:\n",
    "                    recall = relevant_correctness / (relevant_correctness + relevant_incorrectness)\n",
    "                print(\"Recall: {:.6}\".format(recall))\n",
    "\n",
    "                if (precision + recall) == 0:\n",
    "                    f1score = float(0)\n",
    "                else:\n",
    "                    f1score = 2 * precision * recall / (precision + recall)\n",
    "                print(\"F1 score: {:.6}\".format(f1score))\n",
    "\n",
    "                accuracy = (relevant_correctness + irrelevant_correctness) / (relevant_correctness + relevant_incorrectness + irrelevant_correctness + irrelevant_incorrectness)\n",
    "                print(\"Accuracy: {:.6}\".format(accuracy))\n",
    "\n",
    "            precision_sum += precision\n",
    "            recall_sum += recall\n",
    "            f1score_sum += f1score\n",
    "            accuracy_sum += accuracy\n",
    "            print()\n",
    "        \n",
    "        print(\"Done.\")\n",
    "        print()\n",
    "\n",
    "        avg_precision = precision_sum / self.N_FOLDS\n",
    "        avg_recall = recall_sum / self.N_FOLDS\n",
    "        avg_f1 = f1score_sum / self.N_FOLDS\n",
    "        avg_acc = accuracy_sum / self.N_FOLDS\n",
    "\n",
    "        print(\"Averaged precision: {:.6}\".format(avg_precision))\n",
    "        print(\"Averaged recall: {:.6}\".format(avg_recall))\n",
    "        print(\"Averaged F1 score: {:.6}\".format(avg_f1))\n",
    "        print(\"Averaged accuracy: {:.6}\".format(avg_acc))\n",
    "\n",
    "        print(\"End: \" + str(datetime.now()))\n",
    "\n",
    "\n",
    "\n",
    "        ## conduct test on unseen evasions\n",
    "        #self.test_evasion(g)\n",
    "\n",
    "        return avg_precision, avg_recall, avg_f1, avg_acc\n",
    "\n",
    "    \"\"\"\n",
    "    This function propogates message\n",
    "    --------------------------------\n",
    "\n",
    "    each step send a message from a node to its neighbours\n",
    "        - dont sent a message to a labelled node as obesrved variables do not recieve messages\n",
    "        - if sending from a labelled node use _send_msg_label, else _send_msg where the largest diff comes from how the message is calculated\n",
    "    \"\"\"\n",
    "    def step(self, G):\n",
    "        for n in tqdm(G.nodes(), desc=\"Propagate from vertices with label\", mininterval=0.5): # tqdm inits a progress bar\n",
    "            if G.nodes[n]['label'] != None:\n",
    "                for nbr in G.neighbors(n):\n",
    "                    # do not propagate to nodes with label\n",
    "                    if G.nodes[nbr]['label'] == None:\n",
    "\n",
    "                        #print(\"HIDDEN\", nbr)\n",
    "                        self._send_msg_label(G, n, nbr)\n",
    "        #for n in tqdm(G.nodes(), desc=\"Compiling message boxes 1\", mininterval=0.5):\n",
    "        #    G.nodes[n]['msg_comp'] = [0, 0]\n",
    "        #    for nbr in G.neighbors(n):\n",
    "        #        G.nodes[n]['msg_comp'][0] += G.nodes[n]['msgbox'][nbr][0]\n",
    "        #        G.nodes[n]['msg_comp'][1] += G.nodes[n]['msgbox'][nbr][1]\n",
    "        for n in tqdm(G.nodes(), desc=\"Propagate from vertices without label\", mininterval=0.5):\n",
    "            if G.nodes[n]['label'] == None:\n",
    "                for nbr in G.neighbors(n):\n",
    "                    # do not propagate to nodes with label\n",
    "                    if G.nodes[nbr]['label'] == None:\n",
    "                        self._send_msg(G, n, nbr)\n",
    "        #for n in tqdm(G.nodes(), desc=\"Compiling message boxes 2\", mininterval=0.5):\n",
    "        #    G.nodes[n]['msg_comp'] = [0, 0]\n",
    "        #    for nbr in G.neighbors(n):\n",
    "        #        G.nodes[n]['msg_comp'][0] += G.nodes[n]['msgbox'][nbr][0]\n",
    "        #        G.nodes[n]['msg_comp'][1] += G.nodes[n]['msgbox'][nbr][1]\n",
    "\n",
    "    \"\"\"\n",
    "    calculates the message for hidden variables/nodes\n",
    "    \"\"\"\n",
    "    def _min_sum(self, G, _from, _to):\n",
    "        eps = 0.001\n",
    "\n",
    "        new_msg = [0] * 2\n",
    "        for i in range(2):  # we only have 2 labels so far\n",
    "            fromnode = G.nodes[_from]\n",
    "\n",
    "            # initialize\n",
    "            # related => label 1\n",
    "            # not related => label 0\n",
    "            p_not_related = 0\n",
    "            p_related = 0\n",
    "\n",
    "            # data cost\n",
    "            #p_not_related += math.log(1 - fromnode['data_cost'][0])\n",
    "            #p_related += math.log(1 - fromnode['data_cost'][1])\n",
    "            p_not_related += fromnode['data_cost'][0]\n",
    "            p_related += fromnode['data_cost'][1]\n",
    "\n",
    "            #for nbr in G.neighbors(_from):\n",
    "            #    if nbr == _to:\n",
    "            #        continue\n",
    "            #    p_not_related += fromnode['msgbox'][nbr][0]\n",
    "            #    p_related += fromnode['msgbox'][nbr][1]\n",
    "            p_not_related += fromnode['msg_comp'][0] - fromnode['msgbox'][_to][0]\n",
    "            p_related += fromnode['msg_comp'][1] - fromnode['msgbox'][_to][1]\n",
    "\n",
    "            # smoothness cost\n",
    "            if self.type_compat == 'table1':\n",
    "                # original (we think this version is for sum-product...)\n",
    "                #p_not_related += 0.5 + eps if i == 0 else 0.5 - eps\n",
    "                #p_related += 0.5 - eps if i == 0 else 0.5 + eps\n",
    "\n",
    "                \"\"\" using Polonium based Heurisitic. chose of heuristic is likely dependent on similarity measures used\"\"\"\n",
    "                p_not_related += 0.5 - eps if i == 0 else 0.5 + eps \n",
    "                p_related += 0.5 + eps if i == 0 else 0.5 - eps\n",
    "            elif self.type_compat == 'table2':\n",
    "                # original (this version works only when table2 && cos)\n",
    "                #p_not_related += 0 if i == 0 else 1 - G[_from][_to]['distance']\n",
    "                #p_related += 1 - G[_from][_to]['distance'] if i == 0 else 0\n",
    "                #p_not_related += 0 if i == 0 else G[_from][_to]['sim']\n",
    "                #p_related += G[_from][_to]['sim'] if i == 0 else 0\n",
    "                p_not_related += 0 if i == 0 else G[_from][_to]['distance']\n",
    "                p_related += G[_from][_to]['distance'] if i == 0 else 0\n",
    "            elif self.type_compat == 'table3':\n",
    "                # original (our sim are similarities -> same = 1 / completely different = 0)\n",
    "\n",
    "                \"\"\"\n",
    "                EDGE POTENTIALS USING COMPATIBILY MATRIX DEFINED IN THE PAPER\n",
    "                -------------------------------------------------------------\n",
    "                        Phishy                       Benign\n",
    "                Phishy  min(ths+, 1 - sim(x, y))     max(ths−, sim(x, y))\n",
    "                Benign  max(ths−, sim(x, y))         min(ths+, 1 - sim(x, y))\n",
    "                \"\"\"\n",
    "                p_not_related += np.min([self.compat_threshold1, 1 - G[_to][_from]['sim']]) if i == 0 else np.max([self.compat_threshold2, G[_to][_from]['sim']])\n",
    "                p_related += np.max([self.compat_threshold2, G[_to][_from]['sim']]) if i == 0 else np.min([self.compat_threshold1, 1 - G[_to][_from]['sim']])\n",
    "                \n",
    "            new_msg[i] = min(p_not_related, p_related)\n",
    "            #print(new_msg)\n",
    "\n",
    "        # Normalization\n",
    "        # new_msg = np.exp(new_msg) / np.sum(np.exp(new_msg))\n",
    "\n",
    "        return new_msg\n",
    "\n",
    "    \"\"\"\n",
    "    This function propogates messages from labelled nodes\n",
    "    if from node is maliciious then msg = [1, 0] else benign is [0, 1]\n",
    "    \"\"\"\n",
    "    def _send_msg_label(self, G, _from, _to):\n",
    "        #print(f\"FROM   {G.nodes[_from]}\" )\n",
    "        # if lable is given\n",
    "        if G.nodes[_from]['label'] == 1:\n",
    "            msg = [1, 0]\n",
    "        elif G.nodes[_from]['label'] == 0:\n",
    "            msg = [0, 1]\n",
    "        else:\n",
    "            # ct2 case\n",
    "            msg = G.nodes[_from]['data_cost']\n",
    "\n",
    "        to_node = G.nodes[_to]\n",
    "        #print(msg, to_node)\n",
    "        #print(\"\\n\", to_node['msg_comp'][0], to_node['msgbox'][_from][0])\n",
    "\n",
    "\n",
    "        # subtract original msg\n",
    "        to_node['msg_comp'][0] -= to_node['msgbox'][_from][0]\n",
    "        to_node['msg_comp'][1] -= to_node['msgbox'][_from][1]\n",
    "        #print(\"\\n\", to_node['msg_comp'][0], to_node['msgbox'][_from][0])\n",
    "\n",
    "        # add new msg\n",
    "        to_node['msg_comp'][0] += msg[0]\n",
    "        to_node['msg_comp'][1] += msg[1]\n",
    "\n",
    "        # orignal msg := new msg\n",
    "        to_node['msgbox'][_from] = msg\n",
    "        #print(f\"FROM   {G.nodes[_from]}    TO     {G.nodes[_to]['msg_comp'][0]} \\n\", )\n",
    "\n",
    "\n",
    "    def _send_msg(self, G, _from, _to, ):\n",
    "        # label not given\n",
    "        msg = self._min_sum(G, _from, _to)\n",
    "\n",
    "        to_node = G.nodes[_to]\n",
    "        # subtract original msg from from node\n",
    "        to_node['msg_comp'][0] -= to_node['msgbox'][_from][0]\n",
    "        to_node['msg_comp'][1] -= to_node['msgbox'][_from][1]\n",
    "        \n",
    "        # add new msg\n",
    "        to_node['msg_comp'][0] += msg[0]\n",
    "        to_node['msg_comp'][1] += msg[1]\n",
    "        # orignal msg := new msg\n",
    "        to_node['msgbox'][_from] = msg\n",
    "\n",
    "\n",
    "\n",
    "    \"\"\"\n",
    "    This function is used to evalatue perfomance of belief propgoation\n",
    "    \"\"\"\n",
    "    def MAP(self, G):\n",
    "        n_wrong_label = 0\n",
    "        n_correct_label = 0\n",
    "\n",
    "        # remember the objective is to minimise costs\n",
    "        for n in G.nodes():\n",
    "            #print(G.nodes[n])\n",
    "            nodedata = G.nodes[n]\n",
    "\n",
    "            cost_not_related = 0\n",
    "            cost_related = 0\n",
    "\n",
    "            # data costs\n",
    "            cost_not_related += nodedata['data_cost'][0]\n",
    "            cost_related += nodedata['data_cost'][1]\n",
    "\n",
    "            # msg comp\n",
    "            cost_not_related += nodedata['msg_comp'][0]\n",
    "            cost_related += nodedata['msg_comp'][1]\n",
    "\n",
    "            if cost_related < cost_not_related:\n",
    "                nodedata['best_label'] = 1\n",
    "            else:\n",
    "                nodedata['best_label'] = 0\n",
    "\n",
    "            \n",
    "            #print(cost_related, cost_not_related, nodedata['best_label'], nodedata['label'])\n",
    "\n",
    "            # as we are only checking labelled nodes, only concerned with url nodes\n",
    "            if (nodedata['label'] == 1 and nodedata['best_label'] == 0) or (nodedata['label'] == 0 and nodedata['best_label'] == 1) :\n",
    "                #print(\"error2: wrong label!\")\n",
    "                n_wrong_label += 1\n",
    "        \n",
    "            elif (nodedata['label'] == 1 and nodedata['best_label'] == 1) or (nodedata['label'] == 0 and nodedata['best_label'] == 0):\n",
    "                n_correct_label += 1\n",
    "            else:\n",
    "\n",
    "                # if improper labelling do not consider\n",
    "                pass\n",
    "\n",
    "        print(\"# wrong label: \" + str(n_wrong_label))\n",
    "        print(\"# correct label: \" + str(n_correct_label))\n",
    "        \n",
    "\n",
    "\n",
    "        \"\"\"\n",
    "        energy in this case looks like some measure of distance or metric, whereby the larger indicates \n",
    "            - higher datacosts assigned per label\n",
    "            - more misclassifications as there are more discrepancies between predicted \"best label\" and curr label\n",
    "        \"\"\"\n",
    "        energy = 0\n",
    "        for n in G.nodes():\n",
    "            cur_label = G.nodes[n]['best_label']\n",
    "\n",
    "            #energy += math.log(1 - G.node[n]['data_cost'][cur_label])\n",
    "            energy += G.nodes[n]['data_cost'][cur_label]\n",
    "            for nbr, eattr in G[n].items():\n",
    "                energy += 0 if G.nodes[nbr]['best_label'] == cur_label else eattr['distance']\n",
    "\n",
    "        return energy\n",
    "\n",
    "\n",
    "    \"\"\"\n",
    "    visualse graph with edge weights and stuff\n",
    "    \"\"\"\n",
    "    def visualise_graph(g):\n",
    "        pos = nx.spring_layout(g, seed=42)  # Define layout for better aesthetics\n",
    "\n",
    "        # Plot the nodes with different colors based on their type (URL, Domain, Word)\n",
    "        url_nodes = [n for n, attr in g.nodes(data=True) if attr.get('type') == 'URL']\n",
    "        domain_nodes = [n for n, attr in g.nodes(data=True) if attr.get('type') == 'Domain']\n",
    "        word_nodes = [n for n, attr in g.nodes(data=True) if attr.get('type') == 'Word']\n",
    "\n",
    "        # Draw nodes\n",
    "        nx.draw_networkx_nodes(g, pos, nodelist=url_nodes, node_size=600, node_color=\"skyblue\", label=\"URLs\")\n",
    "        nx.draw_networkx_nodes(g, pos, nodelist=domain_nodes, node_size=300, node_color=\"lightgreen\", label=\"Domains\")\n",
    "        nx.draw_networkx_nodes(g, pos, nodelist=word_nodes, node_size=150, node_color=\"salmon\", label=\"Words\")\n",
    "\n",
    "        # Draw edges with weights\n",
    "        edge_weights = [g[u][v].get('distance', 1) for u, v in g.edges()]\n",
    "        nx.draw_networkx_edges(g, pos, edgelist=g.edges(), width=edge_weights, alpha=0.7, edge_color=\"gray\")\n",
    "\n",
    "        \"\"\"\n",
    "\n",
    "        # Draw labels (for nodes)\n",
    "        node_labels = {}\n",
    "        for node, attr in g.nodes(data=True):\n",
    "            # Only display node labels if the node has a 'label' attribute\n",
    "            if 'label' in attr:\n",
    "                node_labels[node] = attr['label']\n",
    "        \n",
    "        nx.draw_networkx_labels(g, pos, labels=node_labels, font_size=10, font_color=\"black\")\n",
    "        \"\"\"\n",
    "\n",
    "        # Optional: Display edge weights as labels on the graph\n",
    "        #edge_labels = {(u, v): round(g[u][v].get('distance', 0), 2) for u, v in g.edges()}\n",
    "        #nx.draw_networkx_edge_labels(g, pos, edge_labels=edge_labels, font_size=8)\n",
    "        plt.title(\"Graph Visualization with Node and Edge Labels\")\n",
    "        plt.legend(scatterpoints=1, loc=\"upper right\", fontsize=10)\n",
    "        plt.axis('off')  # Turn off the axis\n",
    "        plt.show()\n"
   ]
  },
  {
   "cell_type": "markdown",
   "metadata": {},
   "source": [
    "### Finding optimal param config using random grid search and saving best model"
   ]
  },
  {
   "cell_type": "code",
   "execution_count": 79,
   "metadata": {},
   "outputs": [
    {
     "name": "stdout",
     "output_type": "stream",
     "text": [
      "{'type_sim': 'cos', 'type_compat': 'table3', 'compat_threshold1': 0.7, 'compat_threshold2': 0.5, 'N_FOLDS': 5, 'max_epochs': 5}\n",
      "Reading data ...\n",
      "Done ...\n",
      "Starting 5-fold cross-validation\n",
      "3699 3998\n",
      "embedding done\n",
      "Done.\n"
     ]
    },
    {
     "name": "stderr",
     "output_type": "stream",
     "text": [
      "Propagate from vertices with label: 100%|██████████| 35275/35275 [00:00<00:00, 573452.07it/s]\n",
      "Propagate from vertices without label: 100%|██████████| 35275/35275 [00:00<00:00, 69407.95it/s]\n"
     ]
    },
    {
     "name": "stdout",
     "output_type": "stream",
     "text": [
      "# wrong label: 0\n",
      "# correct label: 7697\n",
      "Iteration: 1 MAP: 18558.82954427675\n",
      "rel_cor: 876\n",
      "rel_incor: 75\n",
      "irrel_cor: 915\n",
      "irrel_incor: 87\n",
      "Relevant Accuracy: 0.921136\n",
      "Irrelevant Accuracy: 0.913174\n",
      "Precision: 0.909657\n",
      "Recall: 0.921136\n",
      "F1 score: 0.915361\n",
      "Accuracy: 0.917051\n"
     ]
    },
    {
     "name": "stderr",
     "output_type": "stream",
     "text": [
      "Propagate from vertices with label: 100%|██████████| 35275/35275 [00:00<00:00, 509501.27it/s]\n",
      "Propagate from vertices without label: 100%|██████████| 35275/35275 [00:00<00:00, 70757.40it/s]\n"
     ]
    },
    {
     "name": "stdout",
     "output_type": "stream",
     "text": [
      "# wrong label: 0\n",
      "# correct label: 7697\n",
      "Iteration: 2 MAP: 18547.694704980422\n",
      "rel_cor: 878\n",
      "rel_incor: 73\n",
      "irrel_cor: 916\n",
      "irrel_incor: 86\n",
      "Relevant Accuracy: 0.923239\n",
      "Irrelevant Accuracy: 0.914172\n",
      "Precision: 0.910788\n",
      "Recall: 0.923239\n",
      "F1 score: 0.916971\n",
      "Accuracy: 0.918587\n"
     ]
    },
    {
     "name": "stderr",
     "output_type": "stream",
     "text": [
      "Propagate from vertices with label: 100%|██████████| 35275/35275 [00:00<00:00, 522265.19it/s]\n",
      "Propagate from vertices without label: 100%|██████████| 35275/35275 [00:00<00:00, 70942.81it/s]\n"
     ]
    },
    {
     "name": "stdout",
     "output_type": "stream",
     "text": [
      "# wrong label: 0\n",
      "# correct label: 7697\n",
      "Iteration: 3 MAP: 18545.0465546556\n",
      "rel_cor: 878\n",
      "rel_incor: 73\n",
      "irrel_cor: 915\n",
      "irrel_incor: 87\n",
      "Relevant Accuracy: 0.923239\n",
      "Irrelevant Accuracy: 0.913174\n",
      "Precision: 0.909845\n",
      "Recall: 0.923239\n",
      "F1 score: 0.916493\n",
      "Accuracy: 0.918075\n"
     ]
    },
    {
     "name": "stderr",
     "output_type": "stream",
     "text": [
      "Propagate from vertices with label: 100%|██████████| 35275/35275 [00:00<00:00, 533860.41it/s]\n",
      "Propagate from vertices without label: 100%|██████████| 35275/35275 [00:00<00:00, 69949.42it/s]\n"
     ]
    },
    {
     "name": "stdout",
     "output_type": "stream",
     "text": [
      "# wrong label: 0\n",
      "# correct label: 7697\n",
      "Iteration: 4 MAP: 18545.0465546556\n",
      "rel_cor: 878\n",
      "rel_incor: 73\n",
      "irrel_cor: 915\n",
      "irrel_incor: 87\n",
      "Relevant Accuracy: 0.923239\n",
      "Irrelevant Accuracy: 0.913174\n",
      "Precision: 0.909845\n",
      "Recall: 0.923239\n",
      "F1 score: 0.916493\n",
      "Accuracy: 0.918075\n"
     ]
    },
    {
     "name": "stderr",
     "output_type": "stream",
     "text": [
      "Propagate from vertices with label: 100%|██████████| 35275/35275 [00:00<00:00, 489784.41it/s]\n",
      "Propagate from vertices without label: 100%|██████████| 35275/35275 [00:00<00:00, 71422.16it/s]\n"
     ]
    },
    {
     "name": "stdout",
     "output_type": "stream",
     "text": [
      "# wrong label: 0\n",
      "# correct label: 7697\n",
      "Iteration: 5 MAP: 18563.873452991997\n",
      "rel_cor: 870\n",
      "rel_incor: 81\n",
      "irrel_cor: 919\n",
      "irrel_incor: 83\n",
      "Relevant Accuracy: 0.914826\n",
      "Irrelevant Accuracy: 0.917166\n",
      "Precision: 0.912907\n",
      "Recall: 0.914826\n",
      "F1 score: 0.913866\n",
      "Accuracy: 0.916027\n",
      "\n",
      "3758 3927\n",
      "embedding done\n",
      "Done.\n"
     ]
    },
    {
     "name": "stderr",
     "output_type": "stream",
     "text": [
      "Propagate from vertices with label: 100%|██████████| 35275/35275 [00:00<00:00, 528815.35it/s]\n",
      "Propagate from vertices without label: 100%|██████████| 35275/35275 [00:00<00:00, 72265.99it/s]\n"
     ]
    },
    {
     "name": "stdout",
     "output_type": "stream",
     "text": [
      "# wrong label: 0\n",
      "# correct label: 7685\n",
      "Iteration: 1 MAP: 18564.92185900158\n",
      "rel_cor: 823\n",
      "rel_incor: 67\n",
      "irrel_cor: 997\n",
      "irrel_incor: 76\n",
      "Relevant Accuracy: 0.924719\n",
      "Irrelevant Accuracy: 0.929171\n",
      "Precision: 0.915462\n",
      "Recall: 0.924719\n",
      "F1 score: 0.920067\n",
      "Accuracy: 0.927152\n"
     ]
    },
    {
     "name": "stderr",
     "output_type": "stream",
     "text": [
      "Propagate from vertices with label: 100%|██████████| 35275/35275 [00:00<00:00, 493221.35it/s]\n",
      "Propagate from vertices without label: 100%|██████████| 35275/35275 [00:00<00:00, 72227.01it/s]\n"
     ]
    },
    {
     "name": "stdout",
     "output_type": "stream",
     "text": [
      "# wrong label: 0\n",
      "# correct label: 7685\n",
      "Iteration: 2 MAP: 18552.599630033452\n",
      "rel_cor: 826\n",
      "rel_incor: 64\n",
      "irrel_cor: 997\n",
      "irrel_incor: 76\n",
      "Relevant Accuracy: 0.92809\n",
      "Irrelevant Accuracy: 0.929171\n",
      "Precision: 0.915743\n",
      "Recall: 0.92809\n",
      "F1 score: 0.921875\n",
      "Accuracy: 0.928681\n"
     ]
    },
    {
     "name": "stderr",
     "output_type": "stream",
     "text": [
      "Propagate from vertices with label: 100%|██████████| 35275/35275 [00:00<00:00, 470660.70it/s]\n",
      "Propagate from vertices without label: 100%|██████████| 35275/35275 [00:00<00:00, 71200.67it/s]\n"
     ]
    },
    {
     "name": "stdout",
     "output_type": "stream",
     "text": [
      "# wrong label: 0\n",
      "# correct label: 7685\n",
      "Iteration: 3 MAP: 18552.007164871175\n",
      "rel_cor: 826\n",
      "rel_incor: 64\n",
      "irrel_cor: 995\n",
      "irrel_incor: 78\n",
      "Relevant Accuracy: 0.92809\n",
      "Irrelevant Accuracy: 0.927307\n",
      "Precision: 0.913717\n",
      "Recall: 0.92809\n",
      "F1 score: 0.920847\n",
      "Accuracy: 0.927662\n"
     ]
    },
    {
     "name": "stderr",
     "output_type": "stream",
     "text": [
      "Propagate from vertices with label: 100%|██████████| 35275/35275 [00:00<00:00, 437772.80it/s]\n",
      "Propagate from vertices without label: 100%|██████████| 35275/35275 [00:00<00:00, 71719.73it/s]\n"
     ]
    },
    {
     "name": "stdout",
     "output_type": "stream",
     "text": [
      "# wrong label: 0\n",
      "# correct label: 7685\n",
      "Iteration: 4 MAP: 18552.007164871175\n",
      "rel_cor: 826\n",
      "rel_incor: 64\n",
      "irrel_cor: 995\n",
      "irrel_incor: 78\n",
      "Relevant Accuracy: 0.92809\n",
      "Irrelevant Accuracy: 0.927307\n",
      "Precision: 0.913717\n",
      "Recall: 0.92809\n",
      "F1 score: 0.920847\n",
      "Accuracy: 0.927662\n"
     ]
    },
    {
     "name": "stderr",
     "output_type": "stream",
     "text": [
      "Propagate from vertices with label: 100%|██████████| 35275/35275 [00:00<00:00, 478967.68it/s]\n",
      "Propagate from vertices without label: 100%|██████████| 35275/35275 [00:00<00:00, 72157.65it/s]\n"
     ]
    },
    {
     "name": "stdout",
     "output_type": "stream",
     "text": [
      "# wrong label: 0\n",
      "# correct label: 7685\n",
      "Iteration: 5 MAP: 18572.074227725927\n",
      "rel_cor: 819\n",
      "rel_incor: 71\n",
      "irrel_cor: 1005\n",
      "irrel_incor: 68\n",
      "Relevant Accuracy: 0.920225\n",
      "Irrelevant Accuracy: 0.936626\n",
      "Precision: 0.923337\n",
      "Recall: 0.920225\n",
      "F1 score: 0.921778\n",
      "Accuracy: 0.92919\n",
      "\n",
      "3677 4020\n",
      "embedding done\n",
      "Done.\n"
     ]
    },
    {
     "name": "stderr",
     "output_type": "stream",
     "text": [
      "Propagate from vertices with label: 100%|██████████| 35275/35275 [00:00<00:00, 521953.82it/s]\n",
      "Propagate from vertices without label: 100%|██████████| 35275/35275 [00:00<00:00, 71097.41it/s]\n"
     ]
    },
    {
     "name": "stdout",
     "output_type": "stream",
     "text": [
      "# wrong label: 0\n",
      "# correct label: 7697\n",
      "Iteration: 1 MAP: 18545.979487866898\n",
      "rel_cor: 903\n",
      "rel_incor: 70\n",
      "irrel_cor: 916\n",
      "irrel_incor: 64\n",
      "Relevant Accuracy: 0.928058\n",
      "Irrelevant Accuracy: 0.934694\n",
      "Precision: 0.933816\n",
      "Recall: 0.928058\n",
      "F1 score: 0.930928\n",
      "Accuracy: 0.931388\n"
     ]
    },
    {
     "name": "stderr",
     "output_type": "stream",
     "text": [
      "Propagate from vertices with label: 100%|██████████| 35275/35275 [00:00<00:00, 471161.31it/s]\n",
      "Propagate from vertices without label: 100%|██████████| 35275/35275 [00:00<00:00, 71503.24it/s]\n"
     ]
    },
    {
     "name": "stdout",
     "output_type": "stream",
     "text": [
      "# wrong label: 0\n",
      "# correct label: 7697\n",
      "Iteration: 2 MAP: 18538.795356184986\n",
      "rel_cor: 902\n",
      "rel_incor: 71\n",
      "irrel_cor: 917\n",
      "irrel_incor: 63\n",
      "Relevant Accuracy: 0.92703\n",
      "Irrelevant Accuracy: 0.935714\n",
      "Precision: 0.934715\n",
      "Recall: 0.92703\n",
      "F1 score: 0.930857\n",
      "Accuracy: 0.931388\n"
     ]
    },
    {
     "name": "stderr",
     "output_type": "stream",
     "text": [
      "Propagate from vertices with label: 100%|██████████| 35275/35275 [00:00<00:00, 465346.33it/s]\n",
      "Propagate from vertices without label: 100%|██████████| 35275/35275 [00:00<00:00, 70792.47it/s]\n"
     ]
    },
    {
     "name": "stdout",
     "output_type": "stream",
     "text": [
      "# wrong label: 0\n",
      "# correct label: 7697\n",
      "Iteration: 3 MAP: 18536.6671456404\n",
      "rel_cor: 902\n",
      "rel_incor: 71\n",
      "irrel_cor: 917\n",
      "irrel_incor: 63\n",
      "Relevant Accuracy: 0.92703\n",
      "Irrelevant Accuracy: 0.935714\n",
      "Precision: 0.934715\n",
      "Recall: 0.92703\n",
      "F1 score: 0.930857\n",
      "Accuracy: 0.931388\n"
     ]
    },
    {
     "name": "stderr",
     "output_type": "stream",
     "text": [
      "Propagate from vertices with label: 100%|██████████| 35275/35275 [00:00<00:00, 477198.86it/s]\n",
      "Propagate from vertices without label: 100%|██████████| 35275/35275 [00:00<00:00, 70400.55it/s]\n"
     ]
    },
    {
     "name": "stdout",
     "output_type": "stream",
     "text": [
      "# wrong label: 0\n",
      "# correct label: 7697\n",
      "Iteration: 4 MAP: 18536.6671456404\n",
      "rel_cor: 902\n",
      "rel_incor: 71\n",
      "irrel_cor: 917\n",
      "irrel_incor: 63\n",
      "Relevant Accuracy: 0.92703\n",
      "Irrelevant Accuracy: 0.935714\n",
      "Precision: 0.934715\n",
      "Recall: 0.92703\n",
      "F1 score: 0.930857\n",
      "Accuracy: 0.931388\n"
     ]
    },
    {
     "name": "stderr",
     "output_type": "stream",
     "text": [
      "Propagate from vertices with label: 100%|██████████| 35275/35275 [00:00<00:00, 493336.47it/s]\n",
      "Propagate from vertices without label: 100%|██████████| 35275/35275 [00:00<00:00, 70612.86it/s]\n"
     ]
    },
    {
     "name": "stdout",
     "output_type": "stream",
     "text": [
      "# wrong label: 0\n",
      "# correct label: 7697\n",
      "Iteration: 5 MAP: 18563.49296388102\n",
      "rel_cor: 891\n",
      "rel_incor: 82\n",
      "irrel_cor: 928\n",
      "irrel_incor: 52\n",
      "Relevant Accuracy: 0.915725\n",
      "Irrelevant Accuracy: 0.946939\n",
      "Precision: 0.944857\n",
      "Recall: 0.915725\n",
      "F1 score: 0.930063\n",
      "Accuracy: 0.931388\n",
      "\n",
      "3645 4032\n",
      "embedding done\n",
      "Done.\n"
     ]
    },
    {
     "name": "stderr",
     "output_type": "stream",
     "text": [
      "Propagate from vertices with label: 100%|██████████| 35275/35275 [00:00<00:00, 513392.51it/s]\n",
      "Propagate from vertices without label: 100%|██████████| 35275/35275 [00:00<00:00, 70421.36it/s]\n"
     ]
    },
    {
     "name": "stdout",
     "output_type": "stream",
     "text": [
      "# wrong label: 0\n",
      "# correct label: 7677\n",
      "Iteration: 1 MAP: 18560.38508774712\n",
      "rel_cor: 930\n",
      "rel_incor: 72\n",
      "irrel_cor: 911\n",
      "irrel_incor: 57\n",
      "Relevant Accuracy: 0.928144\n",
      "Irrelevant Accuracy: 0.941116\n",
      "Precision: 0.942249\n",
      "Recall: 0.928144\n",
      "F1 score: 0.935143\n",
      "Accuracy: 0.934518\n"
     ]
    },
    {
     "name": "stderr",
     "output_type": "stream",
     "text": [
      "Propagate from vertices with label: 100%|██████████| 35275/35275 [00:00<00:00, 478780.13it/s]\n",
      "Propagate from vertices without label: 100%|██████████| 35275/35275 [00:00<00:00, 70330.67it/s]\n"
     ]
    },
    {
     "name": "stdout",
     "output_type": "stream",
     "text": [
      "# wrong label: 0\n",
      "# correct label: 7677\n",
      "Iteration: 2 MAP: 18542.2074094005\n",
      "rel_cor: 932\n",
      "rel_incor: 70\n",
      "irrel_cor: 907\n",
      "irrel_incor: 61\n",
      "Relevant Accuracy: 0.93014\n",
      "Irrelevant Accuracy: 0.936983\n",
      "Precision: 0.93857\n",
      "Recall: 0.93014\n",
      "F1 score: 0.934336\n",
      "Accuracy: 0.933503\n"
     ]
    },
    {
     "name": "stderr",
     "output_type": "stream",
     "text": [
      "Propagate from vertices with label: 100%|██████████| 35275/35275 [00:00<00:00, 447124.89it/s]\n",
      "Propagate from vertices without label: 100%|██████████| 35275/35275 [00:00<00:00, 70318.67it/s]\n"
     ]
    },
    {
     "name": "stdout",
     "output_type": "stream",
     "text": [
      "# wrong label: 0\n",
      "# correct label: 7677\n",
      "Iteration: 3 MAP: 18543.265656609095\n",
      "rel_cor: 932\n",
      "rel_incor: 70\n",
      "irrel_cor: 908\n",
      "irrel_incor: 60\n",
      "Relevant Accuracy: 0.93014\n",
      "Irrelevant Accuracy: 0.938017\n",
      "Precision: 0.939516\n",
      "Recall: 0.93014\n",
      "F1 score: 0.934804\n",
      "Accuracy: 0.93401\n"
     ]
    },
    {
     "name": "stderr",
     "output_type": "stream",
     "text": [
      "Propagate from vertices with label: 100%|██████████| 35275/35275 [00:00<00:00, 485098.50it/s]\n",
      "Propagate from vertices without label: 100%|██████████| 35275/35275 [00:00<00:00, 70048.84it/s]\n"
     ]
    },
    {
     "name": "stdout",
     "output_type": "stream",
     "text": [
      "# wrong label: 0\n",
      "# correct label: 7677\n",
      "Iteration: 4 MAP: 18543.23345925287\n",
      "rel_cor: 932\n",
      "rel_incor: 70\n",
      "irrel_cor: 908\n",
      "irrel_incor: 60\n",
      "Relevant Accuracy: 0.93014\n",
      "Irrelevant Accuracy: 0.938017\n",
      "Precision: 0.939516\n",
      "Recall: 0.93014\n",
      "F1 score: 0.934804\n",
      "Accuracy: 0.93401\n"
     ]
    },
    {
     "name": "stderr",
     "output_type": "stream",
     "text": [
      "Propagate from vertices with label: 100%|██████████| 35275/35275 [00:00<00:00, 478394.66it/s]\n",
      "Propagate from vertices without label: 100%|██████████| 35275/35275 [00:00<00:00, 69627.54it/s]\n"
     ]
    },
    {
     "name": "stdout",
     "output_type": "stream",
     "text": [
      "# wrong label: 0\n",
      "# correct label: 7677\n",
      "Iteration: 5 MAP: 18669.84508897726\n",
      "rel_cor: 838\n",
      "rel_incor: 164\n",
      "irrel_cor: 929\n",
      "irrel_incor: 39\n",
      "Relevant Accuracy: 0.836327\n",
      "Irrelevant Accuracy: 0.959711\n",
      "Precision: 0.95553\n",
      "Recall: 0.836327\n",
      "F1 score: 0.891964\n",
      "Accuracy: 0.896954\n",
      "\n",
      "3689 4023\n",
      "embedding done\n",
      "Done.\n"
     ]
    },
    {
     "name": "stderr",
     "output_type": "stream",
     "text": [
      "Propagate from vertices with label: 100%|██████████| 35275/35275 [00:00<00:00, 477559.28it/s]\n",
      "Propagate from vertices without label: 100%|██████████| 35275/35275 [00:00<00:00, 72190.93it/s]\n"
     ]
    },
    {
     "name": "stdout",
     "output_type": "stream",
     "text": [
      "# wrong label: 0\n",
      "# correct label: 7712\n",
      "Iteration: 1 MAP: 18531.062938744486\n",
      "rel_cor: 892\n",
      "rel_incor: 87\n",
      "irrel_cor: 912\n",
      "irrel_incor: 65\n",
      "Relevant Accuracy: 0.911134\n",
      "Irrelevant Accuracy: 0.93347\n",
      "Precision: 0.932079\n",
      "Recall: 0.911134\n",
      "F1 score: 0.921488\n",
      "Accuracy: 0.92229\n"
     ]
    },
    {
     "name": "stderr",
     "output_type": "stream",
     "text": [
      "Propagate from vertices with label: 100%|██████████| 35275/35275 [00:00<00:00, 478818.87it/s]\n",
      "Propagate from vertices without label: 100%|██████████| 35275/35275 [00:00<00:00, 73055.26it/s]\n"
     ]
    },
    {
     "name": "stdout",
     "output_type": "stream",
     "text": [
      "# wrong label: 0\n",
      "# correct label: 7712\n",
      "Iteration: 2 MAP: 18514.83943747945\n",
      "rel_cor: 892\n",
      "rel_incor: 87\n",
      "irrel_cor: 913\n",
      "irrel_incor: 64\n",
      "Relevant Accuracy: 0.911134\n",
      "Irrelevant Accuracy: 0.934493\n",
      "Precision: 0.933054\n",
      "Recall: 0.911134\n",
      "F1 score: 0.921964\n",
      "Accuracy: 0.922802\n"
     ]
    },
    {
     "name": "stderr",
     "output_type": "stream",
     "text": [
      "Propagate from vertices with label: 100%|██████████| 35275/35275 [00:00<00:00, 464523.77it/s]\n",
      "Propagate from vertices without label: 100%|██████████| 35275/35275 [00:00<00:00, 72174.20it/s]\n"
     ]
    },
    {
     "name": "stdout",
     "output_type": "stream",
     "text": [
      "# wrong label: 0\n",
      "# correct label: 7712\n",
      "Iteration: 3 MAP: 18514.76322066255\n",
      "rel_cor: 892\n",
      "rel_incor: 87\n",
      "irrel_cor: 913\n",
      "irrel_incor: 64\n",
      "Relevant Accuracy: 0.911134\n",
      "Irrelevant Accuracy: 0.934493\n",
      "Precision: 0.933054\n",
      "Recall: 0.911134\n",
      "F1 score: 0.921964\n",
      "Accuracy: 0.922802\n"
     ]
    },
    {
     "name": "stderr",
     "output_type": "stream",
     "text": [
      "Propagate from vertices with label: 100%|██████████| 35275/35275 [00:00<00:00, 466210.00it/s]\n",
      "Propagate from vertices without label: 100%|██████████| 35275/35275 [00:00<00:00, 72361.49it/s]\n"
     ]
    },
    {
     "name": "stdout",
     "output_type": "stream",
     "text": [
      "# wrong label: 0\n",
      "# correct label: 7712\n",
      "Iteration: 4 MAP: 18514.76322066255\n",
      "rel_cor: 892\n",
      "rel_incor: 87\n",
      "irrel_cor: 913\n",
      "irrel_incor: 64\n",
      "Relevant Accuracy: 0.911134\n",
      "Irrelevant Accuracy: 0.934493\n",
      "Precision: 0.933054\n",
      "Recall: 0.911134\n",
      "F1 score: 0.921964\n",
      "Accuracy: 0.922802\n"
     ]
    },
    {
     "name": "stderr",
     "output_type": "stream",
     "text": [
      "Propagate from vertices with label: 100%|██████████| 35275/35275 [00:00<00:00, 472426.55it/s]\n",
      "Propagate from vertices without label: 100%|██████████| 35275/35275 [00:00<00:00, 72179.94it/s]\n"
     ]
    },
    {
     "name": "stdout",
     "output_type": "stream",
     "text": [
      "# wrong label: 0\n",
      "# correct label: 7712\n",
      "Iteration: 5 MAP: 18509.368684584584\n",
      "rel_cor: 881\n",
      "rel_incor: 98\n",
      "irrel_cor: 919\n",
      "irrel_incor: 58\n",
      "Relevant Accuracy: 0.899898\n",
      "Irrelevant Accuracy: 0.940635\n",
      "Precision: 0.938232\n",
      "Recall: 0.899898\n",
      "F1 score: 0.918665\n",
      "Accuracy: 0.920245\n",
      "\n",
      "Done.\n",
      "\n",
      "Averaged precision: 0.934973\n",
      "Averaged recall: 0.8974\n",
      "Averaged F1 score: 0.915267\n",
      "Averaged accuracy: 0.918761\n",
      "End: 2024-12-02 22:13:24.292372\n",
      "{'type_sim': 'cos', 'type_compat': 'table3', 'compat_threshold1': 0.7, 'compat_threshold2': 0.7, 'N_FOLDS': 3, 'max_epochs': 5}\n",
      "Reading data ...\n",
      "Done ...\n",
      "Starting 3-fold cross-validation\n",
      "3111 3314\n",
      "embedding done\n",
      "Done.\n"
     ]
    },
    {
     "name": "stderr",
     "output_type": "stream",
     "text": [
      "Propagate from vertices with label: 100%|██████████| 35275/35275 [00:00<00:00, 648418.00it/s]\n",
      "Propagate from vertices without label: 100%|██████████| 35275/35275 [00:00<00:00, 44934.68it/s]\n"
     ]
    },
    {
     "name": "stdout",
     "output_type": "stream",
     "text": [
      "# wrong label: 0\n",
      "# correct label: 6425\n",
      "Iteration: 1 MAP: 19080.61380743917\n",
      "rel_cor: 1412\n",
      "rel_incor: 153\n",
      "irrel_cor: 1592\n",
      "irrel_incor: 94\n",
      "Relevant Accuracy: 0.902236\n",
      "Irrelevant Accuracy: 0.944247\n",
      "Precision: 0.937583\n",
      "Recall: 0.902236\n",
      "F1 score: 0.91957\n",
      "Accuracy: 0.924023\n"
     ]
    },
    {
     "name": "stderr",
     "output_type": "stream",
     "text": [
      "Propagate from vertices with label: 100%|██████████| 35275/35275 [00:00<00:00, 491566.27it/s]\n",
      "Propagate from vertices without label: 100%|██████████| 35275/35275 [00:00<00:00, 45077.40it/s]\n"
     ]
    },
    {
     "name": "stdout",
     "output_type": "stream",
     "text": [
      "# wrong label: 0\n",
      "# correct label: 6425\n",
      "Iteration: 2 MAP: 19069.135746716827\n",
      "rel_cor: 1410\n",
      "rel_incor: 155\n",
      "irrel_cor: 1589\n",
      "irrel_incor: 97\n",
      "Relevant Accuracy: 0.900958\n",
      "Irrelevant Accuracy: 0.942467\n",
      "Precision: 0.935634\n",
      "Recall: 0.900958\n",
      "F1 score: 0.917969\n",
      "Accuracy: 0.922485\n"
     ]
    },
    {
     "name": "stderr",
     "output_type": "stream",
     "text": [
      "Propagate from vertices with label: 100%|██████████| 35275/35275 [00:00<00:00, 581196.67it/s]\n",
      "Propagate from vertices without label: 100%|██████████| 35275/35275 [00:00<00:00, 45200.78it/s]\n"
     ]
    },
    {
     "name": "stdout",
     "output_type": "stream",
     "text": [
      "# wrong label: 0\n",
      "# correct label: 6425\n",
      "Iteration: 3 MAP: 19069.594441711277\n",
      "rel_cor: 1412\n",
      "rel_incor: 153\n",
      "irrel_cor: 1589\n",
      "irrel_incor: 97\n",
      "Relevant Accuracy: 0.902236\n",
      "Irrelevant Accuracy: 0.942467\n",
      "Precision: 0.935719\n",
      "Recall: 0.902236\n",
      "F1 score: 0.918673\n",
      "Accuracy: 0.923101\n"
     ]
    },
    {
     "name": "stderr",
     "output_type": "stream",
     "text": [
      "Propagate from vertices with label: 100%|██████████| 35275/35275 [00:00<00:00, 562907.61it/s]\n",
      "Propagate from vertices without label: 100%|██████████| 35275/35275 [00:00<00:00, 44625.37it/s]\n"
     ]
    },
    {
     "name": "stdout",
     "output_type": "stream",
     "text": [
      "# wrong label: 0\n",
      "# correct label: 6425\n",
      "Iteration: 4 MAP: 19069.116946160168\n",
      "rel_cor: 1412\n",
      "rel_incor: 153\n",
      "irrel_cor: 1589\n",
      "irrel_incor: 97\n",
      "Relevant Accuracy: 0.902236\n",
      "Irrelevant Accuracy: 0.942467\n",
      "Precision: 0.935719\n",
      "Recall: 0.902236\n",
      "F1 score: 0.918673\n",
      "Accuracy: 0.923101\n"
     ]
    },
    {
     "name": "stderr",
     "output_type": "stream",
     "text": [
      "Propagate from vertices with label: 100%|██████████| 35275/35275 [00:00<00:00, 581495.91it/s]\n",
      "Propagate from vertices without label: 100%|██████████| 35275/35275 [00:00<00:00, 44760.88it/s]\n"
     ]
    },
    {
     "name": "stdout",
     "output_type": "stream",
     "text": [
      "# wrong label: 0\n",
      "# correct label: 6425\n",
      "Iteration: 5 MAP: 21495.387467858935\n",
      "rel_cor: 372\n",
      "rel_incor: 1193\n",
      "irrel_cor: 1635\n",
      "irrel_incor: 51\n",
      "Relevant Accuracy: 0.2377\n",
      "Irrelevant Accuracy: 0.969751\n",
      "Precision: 0.879433\n",
      "Recall: 0.2377\n",
      "F1 score: 0.374245\n",
      "Accuracy: 0.617349\n",
      "\n",
      "3115 3315\n",
      "embedding done\n",
      "Done.\n"
     ]
    },
    {
     "name": "stderr",
     "output_type": "stream",
     "text": [
      "Propagate from vertices with label: 100%|██████████| 35275/35275 [00:00<00:00, 614710.58it/s]\n",
      "Propagate from vertices without label: 100%|██████████| 35275/35275 [00:00<00:00, 44370.33it/s]\n"
     ]
    },
    {
     "name": "stdout",
     "output_type": "stream",
     "text": [
      "# wrong label: 0\n",
      "# correct label: 6430\n",
      "Iteration: 1 MAP: 19118.9476936928\n",
      "rel_cor: 1435\n",
      "rel_incor: 132\n",
      "irrel_cor: 1573\n",
      "irrel_incor: 112\n",
      "Relevant Accuracy: 0.915763\n",
      "Irrelevant Accuracy: 0.933531\n",
      "Precision: 0.927602\n",
      "Recall: 0.915763\n",
      "F1 score: 0.921644\n",
      "Accuracy: 0.924969\n"
     ]
    },
    {
     "name": "stderr",
     "output_type": "stream",
     "text": [
      "Propagate from vertices with label: 100%|██████████| 35275/35275 [00:00<00:00, 544555.42it/s]\n",
      "Propagate from vertices without label: 100%|██████████| 35275/35275 [00:00<00:00, 44213.25it/s]\n"
     ]
    },
    {
     "name": "stdout",
     "output_type": "stream",
     "text": [
      "# wrong label: 0\n",
      "# correct label: 6430\n",
      "Iteration: 2 MAP: 19107.890328632966\n",
      "rel_cor: 1440\n",
      "rel_incor: 127\n",
      "irrel_cor: 1571\n",
      "irrel_incor: 114\n",
      "Relevant Accuracy: 0.918953\n",
      "Irrelevant Accuracy: 0.932344\n",
      "Precision: 0.926641\n",
      "Recall: 0.918953\n",
      "F1 score: 0.922781\n",
      "Accuracy: 0.925892\n"
     ]
    },
    {
     "name": "stderr",
     "output_type": "stream",
     "text": [
      "Propagate from vertices with label: 100%|██████████| 35275/35275 [00:00<00:00, 551374.11it/s]\n",
      "Propagate from vertices without label: 100%|██████████| 35275/35275 [00:00<00:00, 44326.37it/s]\n"
     ]
    },
    {
     "name": "stdout",
     "output_type": "stream",
     "text": [
      "# wrong label: 0\n",
      "# correct label: 6430\n",
      "Iteration: 3 MAP: 19110.991382049688\n",
      "rel_cor: 1441\n",
      "rel_incor: 126\n",
      "irrel_cor: 1568\n",
      "irrel_incor: 117\n",
      "Relevant Accuracy: 0.919592\n",
      "Irrelevant Accuracy: 0.930564\n",
      "Precision: 0.924904\n",
      "Recall: 0.919592\n",
      "F1 score: 0.92224\n",
      "Accuracy: 0.925277\n"
     ]
    },
    {
     "name": "stderr",
     "output_type": "stream",
     "text": [
      "Propagate from vertices with label: 100%|██████████| 35275/35275 [00:00<00:00, 548404.59it/s]\n",
      "Propagate from vertices without label: 100%|██████████| 35275/35275 [00:00<00:00, 44056.21it/s]\n"
     ]
    },
    {
     "name": "stdout",
     "output_type": "stream",
     "text": [
      "# wrong label: 0\n",
      "# correct label: 6430\n",
      "Iteration: 4 MAP: 19109.518855618608\n",
      "rel_cor: 1441\n",
      "rel_incor: 126\n",
      "irrel_cor: 1569\n",
      "irrel_incor: 116\n",
      "Relevant Accuracy: 0.919592\n",
      "Irrelevant Accuracy: 0.931157\n",
      "Precision: 0.925498\n",
      "Recall: 0.919592\n",
      "F1 score: 0.922535\n",
      "Accuracy: 0.925584\n"
     ]
    },
    {
     "name": "stderr",
     "output_type": "stream",
     "text": [
      "Propagate from vertices with label: 100%|██████████| 35275/35275 [00:00<00:00, 543090.24it/s]\n",
      "Propagate from vertices without label: 100%|██████████| 35275/35275 [00:00<00:00, 43873.94it/s]\n"
     ]
    },
    {
     "name": "stdout",
     "output_type": "stream",
     "text": [
      "# wrong label: 0\n",
      "# correct label: 6430\n",
      "Iteration: 5 MAP: 21816.740188226577\n",
      "rel_cor: 669\n",
      "rel_incor: 898\n",
      "irrel_cor: 1551\n",
      "irrel_incor: 134\n",
      "Relevant Accuracy: 0.42693\n",
      "Irrelevant Accuracy: 0.920475\n",
      "Precision: 0.833126\n",
      "Recall: 0.42693\n",
      "F1 score: 0.564557\n",
      "Accuracy: 0.682657\n",
      "\n",
      "3071 3371\n",
      "embedding done\n",
      "Done.\n"
     ]
    },
    {
     "name": "stderr",
     "output_type": "stream",
     "text": [
      "Propagate from vertices with label: 100%|██████████| 35275/35275 [00:00<00:00, 605932.09it/s]\n",
      "Propagate from vertices without label: 100%|██████████| 35275/35275 [00:00<00:00, 43355.63it/s]\n"
     ]
    },
    {
     "name": "stdout",
     "output_type": "stream",
     "text": [
      "# wrong label: 0\n",
      "# correct label: 6442\n",
      "Iteration: 1 MAP: 19116.276735586325\n",
      "rel_cor: 1484\n",
      "rel_incor: 135\n",
      "irrel_cor: 1528\n",
      "irrel_incor: 101\n",
      "Relevant Accuracy: 0.916615\n",
      "Irrelevant Accuracy: 0.937999\n",
      "Precision: 0.936278\n",
      "Recall: 0.916615\n",
      "F1 score: 0.926342\n",
      "Accuracy: 0.92734\n"
     ]
    },
    {
     "name": "stderr",
     "output_type": "stream",
     "text": [
      "Propagate from vertices with label: 100%|██████████| 35275/35275 [00:00<00:00, 560077.81it/s]\n",
      "Propagate from vertices without label: 100%|██████████| 35275/35275 [00:00<00:00, 43787.77it/s]\n"
     ]
    },
    {
     "name": "stdout",
     "output_type": "stream",
     "text": [
      "# wrong label: 0\n",
      "# correct label: 6442\n",
      "Iteration: 2 MAP: 19099.85114906471\n",
      "rel_cor: 1487\n",
      "rel_incor: 132\n",
      "irrel_cor: 1528\n",
      "irrel_incor: 101\n",
      "Relevant Accuracy: 0.918468\n",
      "Irrelevant Accuracy: 0.937999\n",
      "Precision: 0.936398\n",
      "Recall: 0.918468\n",
      "F1 score: 0.927346\n",
      "Accuracy: 0.928264\n"
     ]
    },
    {
     "name": "stderr",
     "output_type": "stream",
     "text": [
      "Propagate from vertices with label: 100%|██████████| 35275/35275 [00:00<00:00, 517119.43it/s]\n",
      "Propagate from vertices without label: 100%|██████████| 35275/35275 [00:00<00:00, 43366.01it/s]\n"
     ]
    },
    {
     "name": "stdout",
     "output_type": "stream",
     "text": [
      "# wrong label: 0\n",
      "# correct label: 6442\n",
      "Iteration: 3 MAP: 19096.790557724646\n",
      "rel_cor: 1487\n",
      "rel_incor: 132\n",
      "irrel_cor: 1528\n",
      "irrel_incor: 101\n",
      "Relevant Accuracy: 0.918468\n",
      "Irrelevant Accuracy: 0.937999\n",
      "Precision: 0.936398\n",
      "Recall: 0.918468\n",
      "F1 score: 0.927346\n",
      "Accuracy: 0.928264\n"
     ]
    },
    {
     "name": "stderr",
     "output_type": "stream",
     "text": [
      "Propagate from vertices with label: 100%|██████████| 35275/35275 [00:00<00:00, 535947.03it/s]\n",
      "Propagate from vertices without label: 100%|██████████| 35275/35275 [00:00<00:00, 42983.07it/s]\n"
     ]
    },
    {
     "name": "stdout",
     "output_type": "stream",
     "text": [
      "# wrong label: 0\n",
      "# correct label: 6442\n",
      "Iteration: 4 MAP: 19093.412363213713\n",
      "rel_cor: 1486\n",
      "rel_incor: 133\n",
      "irrel_cor: 1529\n",
      "irrel_incor: 100\n",
      "Relevant Accuracy: 0.917851\n",
      "Irrelevant Accuracy: 0.938613\n",
      "Precision: 0.936948\n",
      "Recall: 0.917851\n",
      "F1 score: 0.927301\n",
      "Accuracy: 0.928264\n"
     ]
    },
    {
     "name": "stderr",
     "output_type": "stream",
     "text": [
      "Propagate from vertices with label: 100%|██████████| 35275/35275 [00:00<00:00, 501175.67it/s]\n",
      "Propagate from vertices without label: 100%|██████████| 35275/35275 [00:00<00:00, 43629.44it/s]\n"
     ]
    },
    {
     "name": "stdout",
     "output_type": "stream",
     "text": [
      "# wrong label: 0\n",
      "# correct label: 6442\n",
      "Iteration: 5 MAP: 21454.96299014569\n",
      "rel_cor: 366\n",
      "rel_incor: 1253\n",
      "irrel_cor: 1549\n",
      "irrel_incor: 80\n",
      "Relevant Accuracy: 0.226065\n",
      "Irrelevant Accuracy: 0.95089\n",
      "Precision: 0.820628\n",
      "Recall: 0.226065\n",
      "F1 score: 0.354479\n",
      "Accuracy: 0.589594\n",
      "\n",
      "Done.\n",
      "\n",
      "Averaged precision: 0.844395\n",
      "Averaged recall: 0.296899\n",
      "Averaged F1 score: 0.431094\n",
      "Averaged accuracy: 0.629866\n",
      "End: 2024-12-02 22:14:13.717031\n",
      "{'type_sim': 'cos', 'type_compat': 'table2', 'compat_threshold1': 0.7, 'compat_threshold2': 0.7, 'N_FOLDS': 7, 'max_epochs': 5}\n",
      "Reading data ...\n",
      "Done ...\n",
      "Starting 7-fold cross-validation\n",
      "3954 4281\n",
      "embedding done\n",
      "Done.\n"
     ]
    },
    {
     "name": "stderr",
     "output_type": "stream",
     "text": [
      "Propagate from vertices with label: 100%|██████████| 35275/35275 [00:00<00:00, 582237.33it/s]\n",
      "Propagate from vertices without label: 100%|██████████| 35275/35275 [00:00<00:00, 358271.80it/s]"
     ]
    },
    {
     "name": "stdout",
     "output_type": "stream",
     "text": [
      "# wrong label: 0\n",
      "# correct label: 8235\n"
     ]
    },
    {
     "name": "stderr",
     "output_type": "stream",
     "text": [
      "\n"
     ]
    },
    {
     "name": "stdout",
     "output_type": "stream",
     "text": [
      "Iteration: 1 MAP: 18147.164854800547\n",
      "rel_cor: 469\n",
      "rel_incor: 221\n",
      "irrel_cor: 687\n",
      "irrel_incor: 32\n",
      "Relevant Accuracy: 0.67971\n",
      "Irrelevant Accuracy: 0.955494\n",
      "Precision: 0.936128\n",
      "Recall: 0.67971\n",
      "F1 score: 0.787573\n",
      "Accuracy: 0.82044\n"
     ]
    },
    {
     "name": "stderr",
     "output_type": "stream",
     "text": [
      "Propagate from vertices with label: 100%|██████████| 35275/35275 [00:00<00:00, 498964.91it/s]\n",
      "Propagate from vertices without label: 100%|██████████| 35275/35275 [00:00<00:00, 363231.69it/s]\n"
     ]
    },
    {
     "name": "stdout",
     "output_type": "stream",
     "text": [
      "# wrong label: 0\n",
      "# correct label: 8235\n",
      "Iteration: 2 MAP: 18143.649248874037\n",
      "rel_cor: 473\n",
      "rel_incor: 217\n",
      "irrel_cor: 688\n",
      "irrel_incor: 31\n",
      "Relevant Accuracy: 0.685507\n",
      "Irrelevant Accuracy: 0.956885\n",
      "Precision: 0.938492\n",
      "Recall: 0.685507\n",
      "F1 score: 0.792295\n",
      "Accuracy: 0.823989\n"
     ]
    },
    {
     "name": "stderr",
     "output_type": "stream",
     "text": [
      "Propagate from vertices with label: 100%|██████████| 35275/35275 [00:00<00:00, 490560.65it/s]\n",
      "Propagate from vertices without label: 100%|██████████| 35275/35275 [00:00<00:00, 357583.42it/s]\n"
     ]
    },
    {
     "name": "stdout",
     "output_type": "stream",
     "text": [
      "# wrong label: 0\n",
      "# correct label: 8235\n",
      "Iteration: 3 MAP: 18142.601977145525\n",
      "rel_cor: 474\n",
      "rel_incor: 216\n",
      "irrel_cor: 688\n",
      "irrel_incor: 31\n",
      "Relevant Accuracy: 0.686957\n",
      "Irrelevant Accuracy: 0.956885\n",
      "Precision: 0.938614\n",
      "Recall: 0.686957\n",
      "F1 score: 0.793305\n",
      "Accuracy: 0.824698\n"
     ]
    },
    {
     "name": "stderr",
     "output_type": "stream",
     "text": [
      "Propagate from vertices with label: 100%|██████████| 35275/35275 [00:00<00:00, 503917.04it/s]\n",
      "Propagate from vertices without label: 100%|██████████| 35275/35275 [00:00<00:00, 344317.86it/s]\n"
     ]
    },
    {
     "name": "stdout",
     "output_type": "stream",
     "text": [
      "# wrong label: 0\n",
      "# correct label: 8235\n",
      "Iteration: 4 MAP: 18142.601977145525\n",
      "rel_cor: 474\n",
      "rel_incor: 216\n",
      "irrel_cor: 688\n",
      "irrel_incor: 31\n",
      "Relevant Accuracy: 0.686957\n",
      "Irrelevant Accuracy: 0.956885\n",
      "Precision: 0.938614\n",
      "Recall: 0.686957\n",
      "F1 score: 0.793305\n",
      "Accuracy: 0.824698\n"
     ]
    },
    {
     "name": "stderr",
     "output_type": "stream",
     "text": [
      "Propagate from vertices with label: 100%|██████████| 35275/35275 [00:00<00:00, 499647.35it/s]\n",
      "Propagate from vertices without label: 100%|██████████| 35275/35275 [00:00<00:00, 356431.67it/s]\n"
     ]
    },
    {
     "name": "stdout",
     "output_type": "stream",
     "text": [
      "# wrong label: 0\n",
      "# correct label: 8235\n",
      "Iteration: 5 MAP: 18143.289097046705\n",
      "rel_cor: 472\n",
      "rel_incor: 218\n",
      "irrel_cor: 689\n",
      "irrel_incor: 30\n",
      "Relevant Accuracy: 0.684058\n",
      "Irrelevant Accuracy: 0.958275\n",
      "Precision: 0.940239\n",
      "Recall: 0.684058\n",
      "F1 score: 0.791946\n",
      "Accuracy: 0.823989\n",
      "\n",
      "3929 4307\n",
      "embedding done\n",
      "Done.\n"
     ]
    },
    {
     "name": "stderr",
     "output_type": "stream",
     "text": [
      "Propagate from vertices with label: 100%|██████████| 35275/35275 [00:00<00:00, 511106.45it/s]\n",
      "Propagate from vertices without label: 100%|██████████| 35275/35275 [00:00<00:00, 352558.69it/s]\n"
     ]
    },
    {
     "name": "stdout",
     "output_type": "stream",
     "text": [
      "# wrong label: 0\n",
      "# correct label: 8236\n",
      "Iteration: 1 MAP: 18135.83782415137\n",
      "rel_cor: 491\n",
      "rel_incor: 220\n",
      "irrel_cor: 651\n",
      "irrel_incor: 42\n",
      "Relevant Accuracy: 0.690577\n",
      "Irrelevant Accuracy: 0.939394\n",
      "Precision: 0.921201\n",
      "Recall: 0.690577\n",
      "F1 score: 0.789389\n",
      "Accuracy: 0.81339\n"
     ]
    },
    {
     "name": "stderr",
     "output_type": "stream",
     "text": [
      "Propagate from vertices with label: 100%|██████████| 35275/35275 [00:00<00:00, 443975.88it/s]\n",
      "Propagate from vertices without label: 100%|██████████| 35275/35275 [00:00<00:00, 350348.86it/s]\n"
     ]
    },
    {
     "name": "stdout",
     "output_type": "stream",
     "text": [
      "# wrong label: 0\n",
      "# correct label: 8236\n",
      "Iteration: 2 MAP: 18132.04874996886\n",
      "rel_cor: 491\n",
      "rel_incor: 220\n",
      "irrel_cor: 651\n",
      "irrel_incor: 42\n",
      "Relevant Accuracy: 0.690577\n",
      "Irrelevant Accuracy: 0.939394\n",
      "Precision: 0.921201\n",
      "Recall: 0.690577\n",
      "F1 score: 0.789389\n",
      "Accuracy: 0.81339\n"
     ]
    },
    {
     "name": "stderr",
     "output_type": "stream",
     "text": [
      "Propagate from vertices with label: 100%|██████████| 35275/35275 [00:00<00:00, 431476.26it/s]\n",
      "Propagate from vertices without label: 100%|██████████| 35275/35275 [00:00<00:00, 348011.77it/s]\n"
     ]
    },
    {
     "name": "stdout",
     "output_type": "stream",
     "text": [
      "# wrong label: 0\n",
      "# correct label: 8236\n",
      "Iteration: 3 MAP: 18131.90840677962\n",
      "rel_cor: 492\n",
      "rel_incor: 219\n",
      "irrel_cor: 651\n",
      "irrel_incor: 42\n",
      "Relevant Accuracy: 0.691983\n",
      "Irrelevant Accuracy: 0.939394\n",
      "Precision: 0.921348\n",
      "Recall: 0.691983\n",
      "F1 score: 0.790361\n",
      "Accuracy: 0.814103\n"
     ]
    },
    {
     "name": "stderr",
     "output_type": "stream",
     "text": [
      "Propagate from vertices with label: 100%|██████████| 35275/35275 [00:00<00:00, 468976.37it/s]\n",
      "Propagate from vertices without label: 100%|██████████| 35275/35275 [00:00<00:00, 364030.66it/s]\n"
     ]
    },
    {
     "name": "stdout",
     "output_type": "stream",
     "text": [
      "# wrong label: 0\n",
      "# correct label: 8236\n",
      "Iteration: 4 MAP: 18131.90840677962\n",
      "rel_cor: 492\n",
      "rel_incor: 219\n",
      "irrel_cor: 651\n",
      "irrel_incor: 42\n",
      "Relevant Accuracy: 0.691983\n",
      "Irrelevant Accuracy: 0.939394\n",
      "Precision: 0.921348\n",
      "Recall: 0.691983\n",
      "F1 score: 0.790361\n",
      "Accuracy: 0.814103\n"
     ]
    },
    {
     "name": "stderr",
     "output_type": "stream",
     "text": [
      "Propagate from vertices with label: 100%|██████████| 35275/35275 [00:00<00:00, 481356.52it/s]\n",
      "Propagate from vertices without label: 100%|██████████| 35275/35275 [00:00<00:00, 349309.95it/s]\n"
     ]
    },
    {
     "name": "stdout",
     "output_type": "stream",
     "text": [
      "# wrong label: 0\n",
      "# correct label: 8236\n",
      "Iteration: 5 MAP: 18132.293737099026\n",
      "rel_cor: 491\n",
      "rel_incor: 220\n",
      "irrel_cor: 651\n",
      "irrel_incor: 42\n",
      "Relevant Accuracy: 0.690577\n",
      "Irrelevant Accuracy: 0.939394\n",
      "Precision: 0.921201\n",
      "Recall: 0.690577\n",
      "F1 score: 0.789389\n",
      "Accuracy: 0.81339\n",
      "\n",
      "3965 4287\n",
      "embedding done\n",
      "Done.\n"
     ]
    },
    {
     "name": "stderr",
     "output_type": "stream",
     "text": [
      "Propagate from vertices with label: 100%|██████████| 35275/35275 [00:00<00:00, 510052.79it/s]\n",
      "Propagate from vertices without label: 100%|██████████| 35275/35275 [00:00<00:00, 376663.24it/s]\n"
     ]
    },
    {
     "name": "stdout",
     "output_type": "stream",
     "text": [
      "# wrong label: 0\n",
      "# correct label: 8252\n",
      "Iteration: 1 MAP: 18134.903596837376\n",
      "rel_cor: 456\n",
      "rel_incor: 228\n",
      "irrel_cor: 684\n",
      "irrel_incor: 29\n",
      "Relevant Accuracy: 0.666667\n",
      "Irrelevant Accuracy: 0.959327\n",
      "Precision: 0.940206\n",
      "Recall: 0.666667\n",
      "F1 score: 0.780154\n",
      "Accuracy: 0.816034\n"
     ]
    },
    {
     "name": "stderr",
     "output_type": "stream",
     "text": [
      "Propagate from vertices with label: 100%|██████████| 35275/35275 [00:00<00:00, 449308.29it/s]\n",
      "Propagate from vertices without label: 100%|██████████| 35275/35275 [00:00<00:00, 367497.37it/s]\n"
     ]
    },
    {
     "name": "stdout",
     "output_type": "stream",
     "text": [
      "# wrong label: 0\n",
      "# correct label: 8252\n",
      "Iteration: 2 MAP: 18132.94208182798\n",
      "rel_cor: 456\n",
      "rel_incor: 228\n",
      "irrel_cor: 685\n",
      "irrel_incor: 28\n",
      "Relevant Accuracy: 0.666667\n",
      "Irrelevant Accuracy: 0.960729\n",
      "Precision: 0.942149\n",
      "Recall: 0.666667\n",
      "F1 score: 0.780822\n",
      "Accuracy: 0.81675\n"
     ]
    },
    {
     "name": "stderr",
     "output_type": "stream",
     "text": [
      "Propagate from vertices with label: 100%|██████████| 35275/35275 [00:00<00:00, 471717.12it/s]\n",
      "Propagate from vertices without label: 100%|██████████| 35275/35275 [00:00<00:00, 360609.41it/s]\n"
     ]
    },
    {
     "name": "stdout",
     "output_type": "stream",
     "text": [
      "# wrong label: 0\n",
      "# correct label: 8252\n",
      "Iteration: 3 MAP: 18132.135091085296\n",
      "rel_cor: 456\n",
      "rel_incor: 228\n",
      "irrel_cor: 685\n",
      "irrel_incor: 28\n",
      "Relevant Accuracy: 0.666667\n",
      "Irrelevant Accuracy: 0.960729\n",
      "Precision: 0.942149\n",
      "Recall: 0.666667\n",
      "F1 score: 0.780822\n",
      "Accuracy: 0.81675\n"
     ]
    },
    {
     "name": "stderr",
     "output_type": "stream",
     "text": [
      "Propagate from vertices with label: 100%|██████████| 35275/35275 [00:00<00:00, 448695.12it/s]\n",
      "Propagate from vertices without label: 100%|██████████| 35275/35275 [00:00<00:00, 359765.87it/s]\n"
     ]
    },
    {
     "name": "stdout",
     "output_type": "stream",
     "text": [
      "# wrong label: 0\n",
      "# correct label: 8252\n",
      "Iteration: 4 MAP: 18132.135091085296\n",
      "rel_cor: 456\n",
      "rel_incor: 228\n",
      "irrel_cor: 685\n",
      "irrel_incor: 28\n",
      "Relevant Accuracy: 0.666667\n",
      "Irrelevant Accuracy: 0.960729\n",
      "Precision: 0.942149\n",
      "Recall: 0.666667\n",
      "F1 score: 0.780822\n",
      "Accuracy: 0.81675\n"
     ]
    },
    {
     "name": "stderr",
     "output_type": "stream",
     "text": [
      "Propagate from vertices with label: 100%|██████████| 35275/35275 [00:00<00:00, 460057.63it/s]\n",
      "Propagate from vertices without label: 100%|██████████| 35275/35275 [00:00<00:00, 359058.67it/s]\n"
     ]
    },
    {
     "name": "stdout",
     "output_type": "stream",
     "text": [
      "# wrong label: 0\n",
      "# correct label: 8252\n",
      "Iteration: 5 MAP: 18143.884164650284\n",
      "rel_cor: 443\n",
      "rel_incor: 241\n",
      "irrel_cor: 685\n",
      "irrel_incor: 28\n",
      "Relevant Accuracy: 0.647661\n",
      "Irrelevant Accuracy: 0.960729\n",
      "Precision: 0.940552\n",
      "Recall: 0.647661\n",
      "F1 score: 0.7671\n",
      "Accuracy: 0.807445\n",
      "\n",
      "3951 4278\n",
      "embedding done\n",
      "Done.\n"
     ]
    },
    {
     "name": "stderr",
     "output_type": "stream",
     "text": [
      "Propagate from vertices with label: 100%|██████████| 35275/35275 [00:00<00:00, 499345.50it/s]\n",
      "Propagate from vertices without label: 100%|██████████| 35275/35275 [00:00<00:00, 380077.92it/s]"
     ]
    },
    {
     "name": "stdout",
     "output_type": "stream",
     "text": [
      "# wrong label: 0\n",
      "# correct label: 8229\n"
     ]
    },
    {
     "name": "stderr",
     "output_type": "stream",
     "text": [
      "\n"
     ]
    },
    {
     "name": "stdout",
     "output_type": "stream",
     "text": [
      "Iteration: 1 MAP: 18156.572799005386\n",
      "rel_cor: 449\n",
      "rel_incor: 238\n",
      "irrel_cor: 690\n",
      "irrel_incor: 32\n",
      "Relevant Accuracy: 0.653566\n",
      "Irrelevant Accuracy: 0.955679\n",
      "Precision: 0.933472\n",
      "Recall: 0.653566\n",
      "F1 score: 0.768836\n",
      "Accuracy: 0.808375\n"
     ]
    },
    {
     "name": "stderr",
     "output_type": "stream",
     "text": [
      "Propagate from vertices with label: 100%|██████████| 35275/35275 [00:00<00:00, 466133.62it/s]\n",
      "Propagate from vertices without label: 100%|██████████| 35275/35275 [00:00<00:00, 364944.74it/s]\n"
     ]
    },
    {
     "name": "stdout",
     "output_type": "stream",
     "text": [
      "# wrong label: 0\n",
      "# correct label: 8229\n",
      "Iteration: 2 MAP: 18152.061753907084\n",
      "rel_cor: 449\n",
      "rel_incor: 238\n",
      "irrel_cor: 690\n",
      "irrel_incor: 32\n",
      "Relevant Accuracy: 0.653566\n",
      "Irrelevant Accuracy: 0.955679\n",
      "Precision: 0.933472\n",
      "Recall: 0.653566\n",
      "F1 score: 0.768836\n",
      "Accuracy: 0.808375\n"
     ]
    },
    {
     "name": "stderr",
     "output_type": "stream",
     "text": [
      "Propagate from vertices with label: 100%|██████████| 35275/35275 [00:00<00:00, 472183.81it/s]\n",
      "Propagate from vertices without label: 100%|██████████| 35275/35275 [00:00<00:00, 376867.60it/s]\n"
     ]
    },
    {
     "name": "stdout",
     "output_type": "stream",
     "text": [
      "# wrong label: 0\n",
      "# correct label: 8229\n",
      "Iteration: 3 MAP: 18151.96415523517\n",
      "rel_cor: 449\n",
      "rel_incor: 238\n",
      "irrel_cor: 690\n",
      "irrel_incor: 32\n",
      "Relevant Accuracy: 0.653566\n",
      "Irrelevant Accuracy: 0.955679\n",
      "Precision: 0.933472\n",
      "Recall: 0.653566\n",
      "F1 score: 0.768836\n",
      "Accuracy: 0.808375\n"
     ]
    },
    {
     "name": "stderr",
     "output_type": "stream",
     "text": [
      "Propagate from vertices with label: 100%|██████████| 35275/35275 [00:00<00:00, 452257.02it/s]\n",
      "Propagate from vertices without label: 100%|██████████| 35275/35275 [00:00<00:00, 352858.02it/s]\n"
     ]
    },
    {
     "name": "stdout",
     "output_type": "stream",
     "text": [
      "# wrong label: 0\n",
      "# correct label: 8229\n",
      "Iteration: 4 MAP: 18151.96415523517\n",
      "rel_cor: 449\n",
      "rel_incor: 238\n",
      "irrel_cor: 690\n",
      "irrel_incor: 32\n",
      "Relevant Accuracy: 0.653566\n",
      "Irrelevant Accuracy: 0.955679\n",
      "Precision: 0.933472\n",
      "Recall: 0.653566\n",
      "F1 score: 0.768836\n",
      "Accuracy: 0.808375\n"
     ]
    },
    {
     "name": "stderr",
     "output_type": "stream",
     "text": [
      "Propagate from vertices with label: 100%|██████████| 35275/35275 [00:00<00:00, 460086.24it/s]\n",
      "Propagate from vertices without label: 100%|██████████| 35275/35275 [00:00<00:00, 350576.32it/s]\n"
     ]
    },
    {
     "name": "stdout",
     "output_type": "stream",
     "text": [
      "# wrong label: 0\n",
      "# correct label: 8229\n",
      "Iteration: 5 MAP: 18153.207828678962\n",
      "rel_cor: 447\n",
      "rel_incor: 240\n",
      "irrel_cor: 690\n",
      "irrel_incor: 32\n",
      "Relevant Accuracy: 0.650655\n",
      "Irrelevant Accuracy: 0.955679\n",
      "Precision: 0.933194\n",
      "Recall: 0.650655\n",
      "F1 score: 0.766724\n",
      "Accuracy: 0.806955\n",
      "\n",
      "3939 4286\n",
      "embedding done\n",
      "Done.\n"
     ]
    },
    {
     "name": "stderr",
     "output_type": "stream",
     "text": [
      "Propagate from vertices with label: 100%|██████████| 35275/35275 [00:00<00:00, 478017.53it/s]\n",
      "Propagate from vertices without label: 100%|██████████| 35275/35275 [00:00<00:00, 357251.00it/s]"
     ]
    },
    {
     "name": "stdout",
     "output_type": "stream",
     "text": [
      "# wrong label: 0\n",
      "# correct label: 8225\n"
     ]
    },
    {
     "name": "stderr",
     "output_type": "stream",
     "text": [
      "\n"
     ]
    },
    {
     "name": "stdout",
     "output_type": "stream",
     "text": [
      "Iteration: 1 MAP: 18168.5573452114\n",
      "rel_cor: 457\n",
      "rel_incor: 237\n",
      "irrel_cor: 682\n",
      "irrel_incor: 32\n",
      "Relevant Accuracy: 0.658501\n",
      "Irrelevant Accuracy: 0.955182\n",
      "Precision: 0.93456\n",
      "Recall: 0.658501\n",
      "F1 score: 0.772612\n",
      "Accuracy: 0.808949\n"
     ]
    },
    {
     "name": "stderr",
     "output_type": "stream",
     "text": [
      "Propagate from vertices with label: 100%|██████████| 35275/35275 [00:00<00:00, 470368.92it/s]\n",
      "Propagate from vertices without label: 100%|██████████| 35275/35275 [00:00<00:00, 350368.77it/s]\n"
     ]
    },
    {
     "name": "stdout",
     "output_type": "stream",
     "text": [
      "# wrong label: 0\n",
      "# correct label: 8225\n",
      "Iteration: 2 MAP: 18165.78618872155\n",
      "rel_cor: 458\n",
      "rel_incor: 236\n",
      "irrel_cor: 682\n",
      "irrel_incor: 32\n",
      "Relevant Accuracy: 0.659942\n",
      "Irrelevant Accuracy: 0.955182\n",
      "Precision: 0.934694\n",
      "Recall: 0.659942\n",
      "F1 score: 0.773649\n",
      "Accuracy: 0.809659\n"
     ]
    },
    {
     "name": "stderr",
     "output_type": "stream",
     "text": [
      "Propagate from vertices with label: 100%|██████████| 35275/35275 [00:00<00:00, 460501.52it/s]\n",
      "Propagate from vertices without label: 100%|██████████| 35275/35275 [00:00<00:00, 360979.81it/s]\n"
     ]
    },
    {
     "name": "stdout",
     "output_type": "stream",
     "text": [
      "# wrong label: 0\n",
      "# correct label: 8225\n",
      "Iteration: 3 MAP: 18165.78618872155\n",
      "rel_cor: 458\n",
      "rel_incor: 236\n",
      "irrel_cor: 682\n",
      "irrel_incor: 32\n",
      "Relevant Accuracy: 0.659942\n",
      "Irrelevant Accuracy: 0.955182\n",
      "Precision: 0.934694\n",
      "Recall: 0.659942\n",
      "F1 score: 0.773649\n",
      "Accuracy: 0.809659\n"
     ]
    },
    {
     "name": "stderr",
     "output_type": "stream",
     "text": [
      "Propagate from vertices with label: 100%|██████████| 35275/35275 [00:00<00:00, 478629.90it/s]\n",
      "Propagate from vertices without label: 100%|██████████| 35275/35275 [00:00<00:00, 357392.53it/s]\n"
     ]
    },
    {
     "name": "stdout",
     "output_type": "stream",
     "text": [
      "# wrong label: 0\n",
      "# correct label: 8225\n",
      "Iteration: 4 MAP: 18165.78618872155\n",
      "rel_cor: 458\n",
      "rel_incor: 236\n",
      "irrel_cor: 682\n",
      "irrel_incor: 32\n",
      "Relevant Accuracy: 0.659942\n",
      "Irrelevant Accuracy: 0.955182\n",
      "Precision: 0.934694\n",
      "Recall: 0.659942\n",
      "F1 score: 0.773649\n",
      "Accuracy: 0.809659\n"
     ]
    },
    {
     "name": "stderr",
     "output_type": "stream",
     "text": [
      "Propagate from vertices with label: 100%|██████████| 35275/35275 [00:00<00:00, 471602.84it/s]\n",
      "Propagate from vertices without label: 100%|██████████| 35275/35275 [00:00<00:00, 356262.59it/s]\n"
     ]
    },
    {
     "name": "stdout",
     "output_type": "stream",
     "text": [
      "# wrong label: 0\n",
      "# correct label: 8225\n",
      "Iteration: 5 MAP: 18471.126332223015\n",
      "rel_cor: 354\n",
      "rel_incor: 340\n",
      "irrel_cor: 679\n",
      "irrel_incor: 35\n",
      "Relevant Accuracy: 0.510086\n",
      "Irrelevant Accuracy: 0.95098\n",
      "Precision: 0.910026\n",
      "Recall: 0.510086\n",
      "F1 score: 0.65374\n",
      "Accuracy: 0.733665\n",
      "\n",
      "3939 4301\n",
      "embedding done\n",
      "Done.\n"
     ]
    },
    {
     "name": "stderr",
     "output_type": "stream",
     "text": [
      "Propagate from vertices with label: 100%|██████████| 35275/35275 [00:00<00:00, 496958.79it/s]\n",
      "Propagate from vertices without label: 100%|██████████| 35275/35275 [00:00<00:00, 364723.44it/s]\n"
     ]
    },
    {
     "name": "stdout",
     "output_type": "stream",
     "text": [
      "# wrong label: 0\n",
      "# correct label: 8240\n",
      "Iteration: 1 MAP: 18127.00116654625\n",
      "rel_cor: 450\n",
      "rel_incor: 250\n",
      "irrel_cor: 670\n",
      "irrel_incor: 29\n",
      "Relevant Accuracy: 0.642857\n",
      "Irrelevant Accuracy: 0.958512\n",
      "Precision: 0.939457\n",
      "Recall: 0.642857\n",
      "F1 score: 0.763359\n",
      "Accuracy: 0.800572\n"
     ]
    },
    {
     "name": "stderr",
     "output_type": "stream",
     "text": [
      "Propagate from vertices with label: 100%|██████████| 35275/35275 [00:00<00:00, 432154.30it/s]\n",
      "Propagate from vertices without label: 100%|██████████| 35275/35275 [00:00<00:00, 357042.37it/s]\n"
     ]
    },
    {
     "name": "stdout",
     "output_type": "stream",
     "text": [
      "# wrong label: 0\n",
      "# correct label: 8240\n",
      "Iteration: 2 MAP: 18124.1675202488\n",
      "rel_cor: 450\n",
      "rel_incor: 250\n",
      "irrel_cor: 669\n",
      "irrel_incor: 30\n",
      "Relevant Accuracy: 0.642857\n",
      "Irrelevant Accuracy: 0.957082\n",
      "Precision: 0.9375\n",
      "Recall: 0.642857\n",
      "F1 score: 0.762712\n",
      "Accuracy: 0.799857\n"
     ]
    },
    {
     "name": "stderr",
     "output_type": "stream",
     "text": [
      "Propagate from vertices with label: 100%|██████████| 35275/35275 [00:00<00:00, 453787.00it/s]\n",
      "Propagate from vertices without label: 100%|██████████| 35275/35275 [00:00<00:00, 360706.99it/s]\n"
     ]
    },
    {
     "name": "stdout",
     "output_type": "stream",
     "text": [
      "# wrong label: 0\n",
      "# correct label: 8240\n",
      "Iteration: 3 MAP: 18124.1675202488\n",
      "rel_cor: 450\n",
      "rel_incor: 250\n",
      "irrel_cor: 669\n",
      "irrel_incor: 30\n",
      "Relevant Accuracy: 0.642857\n",
      "Irrelevant Accuracy: 0.957082\n",
      "Precision: 0.9375\n",
      "Recall: 0.642857\n",
      "F1 score: 0.762712\n",
      "Accuracy: 0.799857\n"
     ]
    },
    {
     "name": "stderr",
     "output_type": "stream",
     "text": [
      "Propagate from vertices with label: 100%|██████████| 35275/35275 [00:00<00:00, 465646.56it/s]\n",
      "Propagate from vertices without label: 100%|██████████| 35275/35275 [00:00<00:00, 353974.05it/s]\n"
     ]
    },
    {
     "name": "stdout",
     "output_type": "stream",
     "text": [
      "# wrong label: 0\n",
      "# correct label: 8240\n",
      "Iteration: 4 MAP: 18124.1675202488\n",
      "rel_cor: 450\n",
      "rel_incor: 250\n",
      "irrel_cor: 669\n",
      "irrel_incor: 30\n",
      "Relevant Accuracy: 0.642857\n",
      "Irrelevant Accuracy: 0.957082\n",
      "Precision: 0.9375\n",
      "Recall: 0.642857\n",
      "F1 score: 0.762712\n",
      "Accuracy: 0.799857\n"
     ]
    },
    {
     "name": "stderr",
     "output_type": "stream",
     "text": [
      "Propagate from vertices with label: 100%|██████████| 35275/35275 [00:00<00:00, 454129.64it/s]\n",
      "Propagate from vertices without label: 100%|██████████| 35275/35275 [00:00<00:00, 353740.47it/s]\n"
     ]
    },
    {
     "name": "stdout",
     "output_type": "stream",
     "text": [
      "# wrong label: 0\n",
      "# correct label: 8240\n",
      "Iteration: 5 MAP: 18127.62442245474\n",
      "rel_cor: 443\n",
      "rel_incor: 257\n",
      "irrel_cor: 670\n",
      "irrel_incor: 29\n",
      "Relevant Accuracy: 0.632857\n",
      "Irrelevant Accuracy: 0.958512\n",
      "Precision: 0.938559\n",
      "Recall: 0.632857\n",
      "F1 score: 0.755973\n",
      "Accuracy: 0.795568\n",
      "\n",
      "3961 4260\n",
      "embedding done\n",
      "Done.\n"
     ]
    },
    {
     "name": "stderr",
     "output_type": "stream",
     "text": [
      "Propagate from vertices with label: 100%|██████████| 35275/35275 [00:00<00:00, 484998.32it/s]\n",
      "Propagate from vertices without label: 100%|██████████| 35275/35275 [00:00<00:00, 367800.67it/s]\n"
     ]
    },
    {
     "name": "stdout",
     "output_type": "stream",
     "text": [
      "# wrong label: 0\n",
      "# correct label: 8221\n",
      "Iteration: 1 MAP: 18187.847021899022\n",
      "rel_cor: 463\n",
      "rel_incor: 207\n",
      "irrel_cor: 710\n",
      "irrel_incor: 30\n",
      "Relevant Accuracy: 0.691045\n",
      "Irrelevant Accuracy: 0.959459\n",
      "Precision: 0.939148\n",
      "Recall: 0.691045\n",
      "F1 score: 0.796217\n",
      "Accuracy: 0.831915\n"
     ]
    },
    {
     "name": "stderr",
     "output_type": "stream",
     "text": [
      "Propagate from vertices with label: 100%|██████████| 35275/35275 [00:00<00:00, 454405.80it/s]\n",
      "Propagate from vertices without label: 100%|██████████| 35275/35275 [00:00<00:00, 360925.22it/s]\n"
     ]
    },
    {
     "name": "stdout",
     "output_type": "stream",
     "text": [
      "# wrong label: 0\n",
      "# correct label: 8221\n",
      "Iteration: 2 MAP: 18184.20845528583\n",
      "rel_cor: 464\n",
      "rel_incor: 206\n",
      "irrel_cor: 710\n",
      "irrel_incor: 30\n",
      "Relevant Accuracy: 0.692537\n",
      "Irrelevant Accuracy: 0.959459\n",
      "Precision: 0.939271\n",
      "Recall: 0.692537\n",
      "F1 score: 0.797251\n",
      "Accuracy: 0.832624\n"
     ]
    },
    {
     "name": "stderr",
     "output_type": "stream",
     "text": [
      "Propagate from vertices with label: 100%|██████████| 35275/35275 [00:00<00:00, 460399.78it/s]\n",
      "Propagate from vertices without label: 100%|██████████| 35275/35275 [00:00<00:00, 360875.92it/s]\n"
     ]
    },
    {
     "name": "stdout",
     "output_type": "stream",
     "text": [
      "# wrong label: 0\n",
      "# correct label: 8221\n",
      "Iteration: 3 MAP: 18183.7109534357\n",
      "rel_cor: 464\n",
      "rel_incor: 206\n",
      "irrel_cor: 710\n",
      "irrel_incor: 30\n",
      "Relevant Accuracy: 0.692537\n",
      "Irrelevant Accuracy: 0.959459\n",
      "Precision: 0.939271\n",
      "Recall: 0.692537\n",
      "F1 score: 0.797251\n",
      "Accuracy: 0.832624\n"
     ]
    },
    {
     "name": "stderr",
     "output_type": "stream",
     "text": [
      "Propagate from vertices with label: 100%|██████████| 35275/35275 [00:00<00:00, 453668.72it/s]\n",
      "Propagate from vertices without label: 100%|██████████| 35275/35275 [00:00<00:00, 350314.02it/s]\n"
     ]
    },
    {
     "name": "stdout",
     "output_type": "stream",
     "text": [
      "# wrong label: 0\n",
      "# correct label: 8221\n",
      "Iteration: 4 MAP: 18183.7109534357\n",
      "rel_cor: 464\n",
      "rel_incor: 206\n",
      "irrel_cor: 710\n",
      "irrel_incor: 30\n",
      "Relevant Accuracy: 0.692537\n",
      "Irrelevant Accuracy: 0.959459\n",
      "Precision: 0.939271\n",
      "Recall: 0.692537\n",
      "F1 score: 0.797251\n",
      "Accuracy: 0.832624\n"
     ]
    },
    {
     "name": "stderr",
     "output_type": "stream",
     "text": [
      "Propagate from vertices with label: 100%|██████████| 35275/35275 [00:00<00:00, 447783.91it/s]\n",
      "Propagate from vertices without label: 100%|██████████| 35275/35275 [00:00<00:00, 360425.81it/s]\n"
     ]
    },
    {
     "name": "stdout",
     "output_type": "stream",
     "text": [
      "# wrong label: 0\n",
      "# correct label: 8221\n",
      "Iteration: 5 MAP: 18185.341203472417\n",
      "rel_cor: 462\n",
      "rel_incor: 208\n",
      "irrel_cor: 710\n",
      "irrel_incor: 30\n",
      "Relevant Accuracy: 0.689552\n",
      "Irrelevant Accuracy: 0.959459\n",
      "Precision: 0.939024\n",
      "Recall: 0.689552\n",
      "F1 score: 0.795181\n",
      "Accuracy: 0.831206\n",
      "\n",
      "Done.\n",
      "\n",
      "Averaged precision: 0.931828\n",
      "Averaged recall: 0.643635\n",
      "Averaged F1 score: 0.760007\n",
      "Averaged accuracy: 0.801745\n",
      "End: 2024-12-02 22:15:49.532783\n",
      "{'type_sim': 'rbf', 'type_compat': 'table1', 'compat_threshold1': 0.5, 'compat_threshold2': 0.7, 'N_FOLDS': 5, 'max_epochs': 5}\n",
      "Reading data ...\n",
      "Done ...\n",
      "Starting 5-fold cross-validation\n",
      "3685 4009\n",
      "embedding done\n",
      "Done.\n"
     ]
    },
    {
     "name": "stderr",
     "output_type": "stream",
     "text": [
      "Propagate from vertices with label: 100%|██████████| 35275/35275 [00:00<00:00, 571648.53it/s]\n",
      "Propagate from vertices without label: 100%|██████████| 35275/35275 [00:00<00:00, 394165.80it/s]"
     ]
    },
    {
     "name": "stdout",
     "output_type": "stream",
     "text": [
      "# wrong label: 0\n",
      "# correct label: 7694\n"
     ]
    },
    {
     "name": "stderr",
     "output_type": "stream",
     "text": [
      "\n"
     ]
    },
    {
     "name": "stdout",
     "output_type": "stream",
     "text": [
      "Iteration: 1 MAP: 45764.46879667422\n",
      "rel_cor: 812\n",
      "rel_incor: 168\n",
      "irrel_cor: 957\n",
      "irrel_incor: 34\n",
      "Relevant Accuracy: 0.828571\n",
      "Irrelevant Accuracy: 0.965691\n",
      "Precision: 0.959811\n",
      "Recall: 0.828571\n",
      "F1 score: 0.889376\n",
      "Accuracy: 0.897514\n"
     ]
    },
    {
     "name": "stderr",
     "output_type": "stream",
     "text": [
      "Propagate from vertices with label: 100%|██████████| 35275/35275 [00:00<00:00, 528030.24it/s]\n",
      "Propagate from vertices without label: 100%|██████████| 35275/35275 [00:00<00:00, 385424.54it/s]\n"
     ]
    },
    {
     "name": "stdout",
     "output_type": "stream",
     "text": [
      "# wrong label: 0\n",
      "# correct label: 7694\n",
      "Iteration: 2 MAP: 45545.6459478772\n",
      "rel_cor: 849\n",
      "rel_incor: 131\n",
      "irrel_cor: 938\n",
      "irrel_incor: 53\n",
      "Relevant Accuracy: 0.866327\n",
      "Irrelevant Accuracy: 0.946519\n",
      "Precision: 0.941242\n",
      "Recall: 0.866327\n",
      "F1 score: 0.902232\n",
      "Accuracy: 0.906646\n"
     ]
    },
    {
     "name": "stderr",
     "output_type": "stream",
     "text": [
      "Propagate from vertices with label: 100%|██████████| 35275/35275 [00:00<00:00, 534039.62it/s]\n",
      "Propagate from vertices without label: 100%|██████████| 35275/35275 [00:00<00:00, 394143.75it/s]\n"
     ]
    },
    {
     "name": "stdout",
     "output_type": "stream",
     "text": [
      "# wrong label: 0\n",
      "# correct label: 7694\n",
      "Iteration: 3 MAP: 45554.80849093561\n",
      "rel_cor: 845\n",
      "rel_incor: 135\n",
      "irrel_cor: 953\n",
      "irrel_incor: 38\n",
      "Relevant Accuracy: 0.862245\n",
      "Irrelevant Accuracy: 0.961655\n",
      "Precision: 0.956965\n",
      "Recall: 0.862245\n",
      "F1 score: 0.907139\n",
      "Accuracy: 0.912227\n"
     ]
    },
    {
     "name": "stderr",
     "output_type": "stream",
     "text": [
      "Propagate from vertices with label: 100%|██████████| 35275/35275 [00:00<00:00, 551185.13it/s]\n",
      "Propagate from vertices without label: 100%|██████████| 35275/35275 [00:00<00:00, 393023.46it/s]\n"
     ]
    },
    {
     "name": "stdout",
     "output_type": "stream",
     "text": [
      "# wrong label: 0\n",
      "# correct label: 7694\n",
      "Iteration: 4 MAP: 45516.36620468262\n",
      "rel_cor: 829\n",
      "rel_incor: 151\n",
      "irrel_cor: 952\n",
      "irrel_incor: 39\n",
      "Relevant Accuracy: 0.845918\n",
      "Irrelevant Accuracy: 0.960646\n",
      "Precision: 0.955069\n",
      "Recall: 0.845918\n",
      "F1 score: 0.897186\n",
      "Accuracy: 0.903602\n"
     ]
    },
    {
     "name": "stderr",
     "output_type": "stream",
     "text": [
      "Propagate from vertices with label: 100%|██████████| 35275/35275 [00:00<00:00, 521696.16it/s]\n",
      "Propagate from vertices without label: 100%|██████████| 35275/35275 [00:00<00:00, 374666.87it/s]\n"
     ]
    },
    {
     "name": "stdout",
     "output_type": "stream",
     "text": [
      "# wrong label: 0\n",
      "# correct label: 7694\n",
      "Iteration: 5 MAP: 56614.40836269612\n",
      "rel_cor: 190\n",
      "rel_incor: 790\n",
      "irrel_cor: 953\n",
      "irrel_incor: 38\n",
      "Relevant Accuracy: 0.193878\n",
      "Irrelevant Accuracy: 0.961655\n",
      "Precision: 0.833333\n",
      "Recall: 0.193878\n",
      "F1 score: 0.31457\n",
      "Accuracy: 0.579909\n",
      "\n",
      "3708 3991\n",
      "embedding done\n",
      "Done.\n"
     ]
    },
    {
     "name": "stderr",
     "output_type": "stream",
     "text": [
      "Propagate from vertices with label: 100%|██████████| 35275/35275 [00:00<00:00, 479091.75it/s]\n",
      "Propagate from vertices without label: 100%|██████████| 35275/35275 [00:00<00:00, 385282.02it/s]\n"
     ]
    },
    {
     "name": "stdout",
     "output_type": "stream",
     "text": [
      "# wrong label: 0\n",
      "# correct label: 7699\n",
      "Iteration: 1 MAP: 45689.969182065906\n",
      "rel_cor: 785\n",
      "rel_incor: 165\n",
      "irrel_cor: 981\n",
      "irrel_incor: 28\n",
      "Relevant Accuracy: 0.826316\n",
      "Irrelevant Accuracy: 0.97225\n",
      "Precision: 0.96556\n",
      "Recall: 0.826316\n",
      "F1 score: 0.890528\n",
      "Accuracy: 0.90148\n"
     ]
    },
    {
     "name": "stderr",
     "output_type": "stream",
     "text": [
      "Propagate from vertices with label: 100%|██████████| 35275/35275 [00:00<00:00, 495195.69it/s]\n",
      "Propagate from vertices without label: 100%|██████████| 35275/35275 [00:00<00:00, 378956.45it/s]\n"
     ]
    },
    {
     "name": "stdout",
     "output_type": "stream",
     "text": [
      "# wrong label: 0\n",
      "# correct label: 7699\n",
      "Iteration: 2 MAP: 45453.22047977802\n",
      "rel_cor: 814\n",
      "rel_incor: 136\n",
      "irrel_cor: 960\n",
      "irrel_incor: 49\n",
      "Relevant Accuracy: 0.856842\n",
      "Irrelevant Accuracy: 0.951437\n",
      "Precision: 0.943221\n",
      "Recall: 0.856842\n",
      "F1 score: 0.897959\n",
      "Accuracy: 0.905564\n"
     ]
    },
    {
     "name": "stderr",
     "output_type": "stream",
     "text": [
      "Propagate from vertices with label: 100%|██████████| 35275/35275 [00:00<00:00, 492238.43it/s]\n",
      "Propagate from vertices without label: 100%|██████████| 35275/35275 [00:00<00:00, 379364.56it/s]\n"
     ]
    },
    {
     "name": "stdout",
     "output_type": "stream",
     "text": [
      "# wrong label: 0\n",
      "# correct label: 7699\n",
      "Iteration: 3 MAP: 45452.474794677466\n",
      "rel_cor: 793\n",
      "rel_incor: 157\n",
      "irrel_cor: 978\n",
      "irrel_incor: 31\n",
      "Relevant Accuracy: 0.834737\n",
      "Irrelevant Accuracy: 0.969277\n",
      "Precision: 0.962379\n",
      "Recall: 0.834737\n",
      "F1 score: 0.894025\n",
      "Accuracy: 0.904033\n"
     ]
    },
    {
     "name": "stderr",
     "output_type": "stream",
     "text": [
      "Propagate from vertices with label: 100%|██████████| 35275/35275 [00:00<00:00, 512688.02it/s]\n",
      "Propagate from vertices without label: 100%|██████████| 35275/35275 [00:00<00:00, 381392.76it/s]\n"
     ]
    },
    {
     "name": "stdout",
     "output_type": "stream",
     "text": [
      "# wrong label: 0\n",
      "# correct label: 7699\n",
      "Iteration: 4 MAP: 45461.382222703665\n",
      "rel_cor: 817\n",
      "rel_incor: 133\n",
      "irrel_cor: 971\n",
      "irrel_incor: 38\n",
      "Relevant Accuracy: 0.86\n",
      "Irrelevant Accuracy: 0.962339\n",
      "Precision: 0.955556\n",
      "Recall: 0.86\n",
      "F1 score: 0.905263\n",
      "Accuracy: 0.912711\n"
     ]
    },
    {
     "name": "stderr",
     "output_type": "stream",
     "text": [
      "Propagate from vertices with label: 100%|██████████| 35275/35275 [00:00<00:00, 513519.02it/s]\n",
      "Propagate from vertices without label: 100%|██████████| 35275/35275 [00:00<00:00, 373614.79it/s]\n"
     ]
    },
    {
     "name": "stdout",
     "output_type": "stream",
     "text": [
      "# wrong label: 0\n",
      "# correct label: 7699\n",
      "Iteration: 5 MAP: 54842.54086726541\n",
      "rel_cor: 253\n",
      "rel_incor: 697\n",
      "irrel_cor: 972\n",
      "irrel_incor: 37\n",
      "Relevant Accuracy: 0.266316\n",
      "Irrelevant Accuracy: 0.96333\n",
      "Precision: 0.872414\n",
      "Recall: 0.266316\n",
      "F1 score: 0.408065\n",
      "Accuracy: 0.625319\n",
      "\n",
      "3717 3980\n",
      "embedding done\n",
      "Done.\n"
     ]
    },
    {
     "name": "stderr",
     "output_type": "stream",
     "text": [
      "Propagate from vertices with label: 100%|██████████| 35275/35275 [00:00<00:00, 528862.61it/s]\n",
      "Propagate from vertices without label: 100%|██████████| 35275/35275 [00:00<00:00, 384862.09it/s]\n"
     ]
    },
    {
     "name": "stdout",
     "output_type": "stream",
     "text": [
      "# wrong label: 0\n",
      "# correct label: 7697\n",
      "Iteration: 1 MAP: 45815.408656152584\n",
      "rel_cor: 801\n",
      "rel_incor: 135\n",
      "irrel_cor: 996\n",
      "irrel_incor: 24\n",
      "Relevant Accuracy: 0.855769\n",
      "Irrelevant Accuracy: 0.976471\n",
      "Precision: 0.970909\n",
      "Recall: 0.855769\n",
      "F1 score: 0.90971\n",
      "Accuracy: 0.918712\n"
     ]
    },
    {
     "name": "stderr",
     "output_type": "stream",
     "text": [
      "Propagate from vertices with label: 100%|██████████| 35275/35275 [00:00<00:00, 485536.29it/s]\n",
      "Propagate from vertices without label: 100%|██████████| 35275/35275 [00:00<00:00, 376416.96it/s]\n"
     ]
    },
    {
     "name": "stdout",
     "output_type": "stream",
     "text": [
      "# wrong label: 0\n",
      "# correct label: 7697\n",
      "Iteration: 2 MAP: 45573.15099027982\n",
      "rel_cor: 816\n",
      "rel_incor: 120\n",
      "irrel_cor: 980\n",
      "irrel_incor: 40\n",
      "Relevant Accuracy: 0.871795\n",
      "Irrelevant Accuracy: 0.960784\n",
      "Precision: 0.953271\n",
      "Recall: 0.871795\n",
      "F1 score: 0.910714\n",
      "Accuracy: 0.9182\n"
     ]
    },
    {
     "name": "stderr",
     "output_type": "stream",
     "text": [
      "Propagate from vertices with label: 100%|██████████| 35275/35275 [00:00<00:00, 498264.20it/s]\n",
      "Propagate from vertices without label: 100%|██████████| 35275/35275 [00:00<00:00, 387306.22it/s]\n"
     ]
    },
    {
     "name": "stdout",
     "output_type": "stream",
     "text": [
      "# wrong label: 0\n",
      "# correct label: 7697\n",
      "Iteration: 3 MAP: 45627.074036391896\n",
      "rel_cor: 827\n",
      "rel_incor: 109\n",
      "irrel_cor: 974\n",
      "irrel_incor: 46\n",
      "Relevant Accuracy: 0.883547\n",
      "Irrelevant Accuracy: 0.954902\n",
      "Precision: 0.947308\n",
      "Recall: 0.883547\n",
      "F1 score: 0.914317\n",
      "Accuracy: 0.920757\n"
     ]
    },
    {
     "name": "stderr",
     "output_type": "stream",
     "text": [
      "Propagate from vertices with label: 100%|██████████| 35275/35275 [00:00<00:00, 489355.12it/s]\n",
      "Propagate from vertices without label: 100%|██████████| 35275/35275 [00:00<00:00, 364698.26it/s]\n"
     ]
    },
    {
     "name": "stdout",
     "output_type": "stream",
     "text": [
      "# wrong label: 0\n",
      "# correct label: 7697\n",
      "Iteration: 4 MAP: 45621.8489933335\n",
      "rel_cor: 821\n",
      "rel_incor: 115\n",
      "irrel_cor: 986\n",
      "irrel_incor: 34\n",
      "Relevant Accuracy: 0.877137\n",
      "Irrelevant Accuracy: 0.966667\n",
      "Precision: 0.960234\n",
      "Recall: 0.877137\n",
      "F1 score: 0.916806\n",
      "Accuracy: 0.923824\n"
     ]
    },
    {
     "name": "stderr",
     "output_type": "stream",
     "text": [
      "Propagate from vertices with label: 100%|██████████| 35275/35275 [00:00<00:00, 496656.84it/s]\n",
      "Propagate from vertices without label: 100%|██████████| 35275/35275 [00:00<00:00, 365028.48it/s]\n"
     ]
    },
    {
     "name": "stdout",
     "output_type": "stream",
     "text": [
      "# wrong label: 0\n",
      "# correct label: 7697\n",
      "Iteration: 5 MAP: 55688.19880060118\n",
      "rel_cor: 227\n",
      "rel_incor: 709\n",
      "irrel_cor: 992\n",
      "irrel_incor: 28\n",
      "Relevant Accuracy: 0.242521\n",
      "Irrelevant Accuracy: 0.972549\n",
      "Precision: 0.890196\n",
      "Recall: 0.242521\n",
      "F1 score: 0.381192\n",
      "Accuracy: 0.623211\n",
      "\n",
      "3712 3980\n",
      "embedding done\n",
      "Done.\n"
     ]
    },
    {
     "name": "stderr",
     "output_type": "stream",
     "text": [
      "Propagate from vertices with label: 100%|██████████| 35275/35275 [00:00<00:00, 490676.16it/s]\n",
      "Propagate from vertices without label: 100%|██████████| 35275/35275 [00:00<00:00, 364562.57it/s]\n"
     ]
    },
    {
     "name": "stdout",
     "output_type": "stream",
     "text": [
      "# wrong label: 0\n",
      "# correct label: 7692\n",
      "Iteration: 1 MAP: 45823.88951931851\n",
      "rel_cor: 782\n",
      "rel_incor: 159\n",
      "irrel_cor: 987\n",
      "irrel_incor: 33\n",
      "Relevant Accuracy: 0.831031\n",
      "Irrelevant Accuracy: 0.967647\n",
      "Precision: 0.959509\n",
      "Recall: 0.831031\n",
      "F1 score: 0.890661\n",
      "Accuracy: 0.902091\n"
     ]
    },
    {
     "name": "stderr",
     "output_type": "stream",
     "text": [
      "Propagate from vertices with label: 100%|██████████| 35275/35275 [00:00<00:00, 499515.77it/s]\n",
      "Propagate from vertices without label: 100%|██████████| 35275/35275 [00:00<00:00, 364985.26it/s]\n"
     ]
    },
    {
     "name": "stdout",
     "output_type": "stream",
     "text": [
      "# wrong label: 0\n",
      "# correct label: 7692\n",
      "Iteration: 2 MAP: 45612.43397234315\n",
      "rel_cor: 820\n",
      "rel_incor: 121\n",
      "irrel_cor: 975\n",
      "irrel_incor: 45\n",
      "Relevant Accuracy: 0.871413\n",
      "Irrelevant Accuracy: 0.955882\n",
      "Precision: 0.947977\n",
      "Recall: 0.871413\n",
      "F1 score: 0.908084\n",
      "Accuracy: 0.915349\n"
     ]
    },
    {
     "name": "stderr",
     "output_type": "stream",
     "text": [
      "Propagate from vertices with label: 100%|██████████| 35275/35275 [00:00<00:00, 495358.17it/s]\n",
      "Propagate from vertices without label: 100%|██████████| 35275/35275 [00:00<00:00, 366590.45it/s]\n"
     ]
    },
    {
     "name": "stdout",
     "output_type": "stream",
     "text": [
      "# wrong label: 0\n",
      "# correct label: 7692\n",
      "Iteration: 3 MAP: 45640.18253897069\n",
      "rel_cor: 821\n",
      "rel_incor: 120\n",
      "irrel_cor: 971\n",
      "irrel_incor: 49\n",
      "Relevant Accuracy: 0.872476\n",
      "Irrelevant Accuracy: 0.951961\n",
      "Precision: 0.943678\n",
      "Recall: 0.872476\n",
      "F1 score: 0.906681\n",
      "Accuracy: 0.913819\n"
     ]
    },
    {
     "name": "stderr",
     "output_type": "stream",
     "text": [
      "Propagate from vertices with label: 100%|██████████| 35275/35275 [00:00<00:00, 481500.64it/s]\n",
      "Propagate from vertices without label: 100%|██████████| 35275/35275 [00:00<00:00, 369733.59it/s]\n"
     ]
    },
    {
     "name": "stdout",
     "output_type": "stream",
     "text": [
      "# wrong label: 0\n",
      "# correct label: 7692\n",
      "Iteration: 4 MAP: 45704.551294668934\n",
      "rel_cor: 794\n",
      "rel_incor: 147\n",
      "irrel_cor: 987\n",
      "irrel_incor: 33\n",
      "Relevant Accuracy: 0.843783\n",
      "Irrelevant Accuracy: 0.967647\n",
      "Precision: 0.960097\n",
      "Recall: 0.843783\n",
      "F1 score: 0.89819\n",
      "Accuracy: 0.90821\n"
     ]
    },
    {
     "name": "stderr",
     "output_type": "stream",
     "text": [
      "Propagate from vertices with label: 100%|██████████| 35275/35275 [00:00<00:00, 468815.88it/s]\n",
      "Propagate from vertices without label: 100%|██████████| 35275/35275 [00:00<00:00, 364575.15it/s]\n"
     ]
    },
    {
     "name": "stdout",
     "output_type": "stream",
     "text": [
      "# wrong label: 0\n",
      "# correct label: 7692\n",
      "Iteration: 5 MAP: 56830.2466530703\n",
      "rel_cor: 146\n",
      "rel_incor: 795\n",
      "irrel_cor: 1007\n",
      "irrel_incor: 13\n",
      "Relevant Accuracy: 0.155154\n",
      "Irrelevant Accuracy: 0.987255\n",
      "Precision: 0.918239\n",
      "Recall: 0.155154\n",
      "F1 score: 0.265455\n",
      "Accuracy: 0.587965\n",
      "\n",
      "3652 4040\n",
      "embedding done\n",
      "Done.\n"
     ]
    },
    {
     "name": "stderr",
     "output_type": "stream",
     "text": [
      "Propagate from vertices with label: 100%|██████████| 35275/35275 [00:00<00:00, 504214.13it/s]\n",
      "Propagate from vertices without label: 100%|██████████| 35275/35275 [00:00<00:00, 372426.06it/s]"
     ]
    },
    {
     "name": "stdout",
     "output_type": "stream",
     "text": [
      "# wrong label: 0\n",
      "# correct label: 7692\n"
     ]
    },
    {
     "name": "stderr",
     "output_type": "stream",
     "text": [
      "\n"
     ]
    },
    {
     "name": "stdout",
     "output_type": "stream",
     "text": [
      "Iteration: 1 MAP: 45798.492231473094\n",
      "rel_cor: 843\n",
      "rel_incor: 153\n",
      "irrel_cor: 930\n",
      "irrel_incor: 30\n",
      "Relevant Accuracy: 0.846386\n",
      "Irrelevant Accuracy: 0.96875\n",
      "Precision: 0.965636\n",
      "Recall: 0.846386\n",
      "F1 score: 0.902087\n",
      "Accuracy: 0.906442\n"
     ]
    },
    {
     "name": "stderr",
     "output_type": "stream",
     "text": [
      "Propagate from vertices with label: 100%|██████████| 35275/35275 [00:00<00:00, 472257.66it/s]\n",
      "Propagate from vertices without label: 100%|██████████| 35275/35275 [00:00<00:00, 360945.47it/s]\n"
     ]
    },
    {
     "name": "stdout",
     "output_type": "stream",
     "text": [
      "# wrong label: 0\n",
      "# correct label: 7692\n",
      "Iteration: 2 MAP: 45546.5081996764\n",
      "rel_cor: 867\n",
      "rel_incor: 129\n",
      "irrel_cor: 913\n",
      "irrel_incor: 47\n",
      "Relevant Accuracy: 0.870482\n",
      "Irrelevant Accuracy: 0.951042\n",
      "Precision: 0.948578\n",
      "Recall: 0.870482\n",
      "F1 score: 0.907853\n",
      "Accuracy: 0.91002\n"
     ]
    },
    {
     "name": "stderr",
     "output_type": "stream",
     "text": [
      "Propagate from vertices with label: 100%|██████████| 35275/35275 [00:00<00:00, 492210.59it/s]\n",
      "Propagate from vertices without label: 100%|██████████| 35275/35275 [00:00<00:00, 364901.54it/s]\n"
     ]
    },
    {
     "name": "stdout",
     "output_type": "stream",
     "text": [
      "# wrong label: 0\n",
      "# correct label: 7692\n",
      "Iteration: 3 MAP: 45501.44720767386\n",
      "rel_cor: 865\n",
      "rel_incor: 131\n",
      "irrel_cor: 919\n",
      "irrel_incor: 41\n",
      "Relevant Accuracy: 0.868474\n",
      "Irrelevant Accuracy: 0.957292\n",
      "Precision: 0.954746\n",
      "Recall: 0.868474\n",
      "F1 score: 0.909569\n",
      "Accuracy: 0.912065\n"
     ]
    },
    {
     "name": "stderr",
     "output_type": "stream",
     "text": [
      "Propagate from vertices with label: 100%|██████████| 35275/35275 [00:00<00:00, 485155.77it/s]\n",
      "Propagate from vertices without label: 100%|██████████| 35275/35275 [00:00<00:00, 353555.35it/s]\n"
     ]
    },
    {
     "name": "stdout",
     "output_type": "stream",
     "text": [
      "# wrong label: 0\n",
      "# correct label: 7692\n",
      "Iteration: 4 MAP: 45484.59477876074\n",
      "rel_cor: 850\n",
      "rel_incor: 146\n",
      "irrel_cor: 917\n",
      "irrel_incor: 43\n",
      "Relevant Accuracy: 0.853414\n",
      "Irrelevant Accuracy: 0.955208\n",
      "Precision: 0.951848\n",
      "Recall: 0.853414\n",
      "F1 score: 0.899947\n",
      "Accuracy: 0.903374\n"
     ]
    },
    {
     "name": "stderr",
     "output_type": "stream",
     "text": [
      "Propagate from vertices with label: 100%|██████████| 35275/35275 [00:00<00:00, 478487.49it/s]\n",
      "Propagate from vertices without label: 100%|██████████| 35275/35275 [00:00<00:00, 360757.13it/s]\n"
     ]
    },
    {
     "name": "stdout",
     "output_type": "stream",
     "text": [
      "# wrong label: 0\n",
      "# correct label: 7692\n",
      "Iteration: 5 MAP: 57264.95536338337\n",
      "rel_cor: 186\n",
      "rel_incor: 810\n",
      "irrel_cor: 926\n",
      "irrel_incor: 34\n",
      "Relevant Accuracy: 0.186747\n",
      "Irrelevant Accuracy: 0.964583\n",
      "Precision: 0.845455\n",
      "Recall: 0.186747\n",
      "F1 score: 0.305921\n",
      "Accuracy: 0.568507\n",
      "\n",
      "Done.\n",
      "\n",
      "Averaged precision: 0.871927\n",
      "Averaged recall: 0.208923\n",
      "Averaged F1 score: 0.33504\n",
      "Averaged accuracy: 0.596982\n",
      "End: 2024-12-02 22:16:55.350937\n",
      "Best Score: 0.9166001703130268\n",
      "Best config: {'type_sim': 'cos', 'type_compat': 'table3', 'compat_threshold1': 0.7, 'compat_threshold2': 0.5, 'N_FOLDS': 5, 'max_epochs': 5}\n",
      "Best Average performance: (0.9349725840833679, 0.8974001961987661, 0.9152671083124616, 0.9187607926575115)\n"
     ]
    }
   ],
   "source": [
    "\n",
    "# parameter space\n",
    "grid = {\n",
    "    'type_sim': ['rbf', 'minmax', 'cos'],\n",
    "    'type_compat': ['table1', 'table2', 'table3'],\n",
    "    'compat_threshold1': [0.3, 0.5, 0.7],\n",
    "    'compat_threshold2': [0.3, 0.5, 0.7],\n",
    "    'N_FOLDS': [3 ,5, 7],\n",
    "    'max_epochs': [3, 5]\n",
    "}\n",
    "# not including emb in param space as graph constructed outside of scope\n",
    "type_emb = 'node2vec' \n",
    "\n",
    "# Random grid search\n",
    "random_trails = 4  # Number of random configurations to try\n",
    "best_score = float(\"-inf\")\n",
    "best_params = None\n",
    "best_model = None\n",
    "config_params = None\n",
    "\n",
    "for _ in range(random_trails):\n",
    "\n",
    "    params = {key: np.random.choice(values) for key, values in grid.items()} # select random param for key\n",
    "    print(params)\n",
    "    \n",
    "    # train and eval using random param config\n",
    "    p = prediction(type_emb, type_sim= params[\"type_sim\"], type_compat= params[\"type_compat\"], compat_threshold1= params[\"compat_threshold1\"],\n",
    "                    compat_threshold2= params[\"compat_threshold2\"], N_FOLDS= params[\"N_FOLDS\"], max_epochs= params[\"max_epochs\"])\n",
    "    \n",
    "    avg_precision, avg_recall, avg_f1, avg_acc = p.main()\n",
    "    score = (avg_precision +  avg_recall + avg_f1 +  avg_acc) / 4 # using average of all metrics to calc score\n",
    "    \n",
    "    if score > best_score:\n",
    "        best_score = score\n",
    "        best_params = (avg_precision, avg_recall, avg_f1, avg_acc)\n",
    "        config_params = params\n",
    "        best_model = p\n",
    "\n",
    "print(f\"Best Score: {best_score}\")\n",
    "print(f\"Best config: {config_params}\")\n",
    "print(f\"Best Average performance: {best_params}\")"
   ]
  },
  {
   "cell_type": "markdown",
   "metadata": {},
   "source": [
    "### Testing for different evasion conditions including:\n",
    "- M1: Change domain to a random benign domain (IP changes).\n",
    "- M2: Change path string to a random benign one.\n",
    "- M3: Change query string to a random benign one.\n",
    "- M4: Change domain and path to random benign ones.\n",
    "- M5: Change domain and query string to random benign ones.\n",
    "- M6: Change path and query string to random benign ones.\n",
    "- M7: Change all parts (domain, path, query) to random benign ones."
   ]
  },
  {
   "cell_type": "code",
   "execution_count": 80,
   "metadata": {},
   "outputs": [
    {
     "name": "stderr",
     "output_type": "stream",
     "text": [
      "Computing transition probabilities: 100%|██████████| 35327/35327 [02:04<00:00, 283.95it/s]\n"
     ]
    },
    {
     "name": "stdout",
     "output_type": "stream",
     "text": [
      "Graph complete.\n",
      "Test nodes added to Graph\n",
      "Reading data ...\n",
      "Done ...\n",
      "Starting 5-fold cross-validation\n",
      "3724 3960\n",
      "embedding done\n",
      "Done.\n"
     ]
    },
    {
     "name": "stderr",
     "output_type": "stream",
     "text": [
      "Propagate from vertices with label: 100%|██████████| 35327/35327 [00:00<00:00, 527216.82it/s]\n",
      "Propagate from vertices without label: 100%|██████████| 35327/35327 [00:00<00:00, 67944.70it/s]\n"
     ]
    },
    {
     "name": "stdout",
     "output_type": "stream",
     "text": [
      "# wrong label: 0\n",
      "# correct label: 7684\n",
      "Iteration: 1 MAP: 18600.293811645046\n",
      "rel_cor: 825\n",
      "rel_incor: 91\n",
      "irrel_cor: 951\n",
      "irrel_incor: 89\n",
      "Relevant Accuracy: 0.900655\n",
      "Irrelevant Accuracy: 0.914423\n",
      "Precision: 0.902626\n",
      "Recall: 0.900655\n",
      "F1 score: 0.901639\n",
      "Accuracy: 0.907975\n"
     ]
    },
    {
     "name": "stderr",
     "output_type": "stream",
     "text": [
      "Propagate from vertices with label: 100%|██████████| 35327/35327 [00:00<00:00, 455659.22it/s]\n",
      "Propagate from vertices without label: 100%|██████████| 35327/35327 [00:00<00:00, 69409.32it/s]\n"
     ]
    },
    {
     "name": "stdout",
     "output_type": "stream",
     "text": [
      "# wrong label: 0\n",
      "# correct label: 7684\n",
      "Iteration: 2 MAP: 18595.87535002424\n",
      "rel_cor: 829\n",
      "rel_incor: 87\n",
      "irrel_cor: 953\n",
      "irrel_incor: 87\n",
      "Relevant Accuracy: 0.905022\n",
      "Irrelevant Accuracy: 0.916346\n",
      "Precision: 0.905022\n",
      "Recall: 0.905022\n",
      "F1 score: 0.905022\n",
      "Accuracy: 0.911043\n"
     ]
    },
    {
     "name": "stderr",
     "output_type": "stream",
     "text": [
      "Propagate from vertices with label: 100%|██████████| 35327/35327 [00:00<00:00, 462562.48it/s]\n",
      "Propagate from vertices without label: 100%|██████████| 35327/35327 [00:00<00:00, 69433.00it/s]\n"
     ]
    },
    {
     "name": "stdout",
     "output_type": "stream",
     "text": [
      "# wrong label: 0\n",
      "# correct label: 7684\n",
      "Iteration: 3 MAP: 18594.44972791864\n",
      "rel_cor: 829\n",
      "rel_incor: 87\n",
      "irrel_cor: 953\n",
      "irrel_incor: 87\n",
      "Relevant Accuracy: 0.905022\n",
      "Irrelevant Accuracy: 0.916346\n",
      "Precision: 0.905022\n",
      "Recall: 0.905022\n",
      "F1 score: 0.905022\n",
      "Accuracy: 0.911043\n"
     ]
    },
    {
     "name": "stderr",
     "output_type": "stream",
     "text": [
      "Propagate from vertices with label: 100%|██████████| 35327/35327 [00:00<00:00, 479740.52it/s]\n",
      "Propagate from vertices without label: 100%|██████████| 35327/35327 [00:00<00:00, 70707.27it/s]\n"
     ]
    },
    {
     "name": "stdout",
     "output_type": "stream",
     "text": [
      "# wrong label: 0\n",
      "# correct label: 7684\n",
      "Iteration: 4 MAP: 18593.30683913423\n",
      "rel_cor: 829\n",
      "rel_incor: 87\n",
      "irrel_cor: 953\n",
      "irrel_incor: 87\n",
      "Relevant Accuracy: 0.905022\n",
      "Irrelevant Accuracy: 0.916346\n",
      "Precision: 0.905022\n",
      "Recall: 0.905022\n",
      "F1 score: 0.905022\n",
      "Accuracy: 0.911043\n"
     ]
    },
    {
     "name": "stderr",
     "output_type": "stream",
     "text": [
      "Propagate from vertices with label: 100%|██████████| 35327/35327 [00:00<00:00, 503700.88it/s]\n",
      "Propagate from vertices without label: 100%|██████████| 35327/35327 [00:00<00:00, 69802.88it/s]\n"
     ]
    },
    {
     "name": "stdout",
     "output_type": "stream",
     "text": [
      "# wrong label: 0\n",
      "# correct label: 7684\n",
      "Iteration: 5 MAP: 18660.488351668788\n",
      "rel_cor: 813\n",
      "rel_incor: 103\n",
      "irrel_cor: 963\n",
      "irrel_incor: 77\n",
      "Relevant Accuracy: 0.887555\n",
      "Irrelevant Accuracy: 0.925962\n",
      "Precision: 0.913483\n",
      "Recall: 0.887555\n",
      "F1 score: 0.900332\n",
      "Accuracy: 0.907975\n",
      "\n",
      "3687 4018\n",
      "embedding done\n",
      "Done.\n"
     ]
    },
    {
     "name": "stderr",
     "output_type": "stream",
     "text": [
      "Propagate from vertices with label: 100%|██████████| 35327/35327 [00:00<00:00, 485326.68it/s]\n",
      "Propagate from vertices without label: 100%|██████████| 35327/35327 [00:00<00:00, 71180.23it/s]\n"
     ]
    },
    {
     "name": "stdout",
     "output_type": "stream",
     "text": [
      "# wrong label: 0\n",
      "# correct label: 7705\n",
      "Iteration: 1 MAP: 18586.732778775186\n",
      "rel_cor: 897\n",
      "rel_incor: 79\n",
      "irrel_cor: 913\n",
      "irrel_incor: 69\n",
      "Relevant Accuracy: 0.919057\n",
      "Irrelevant Accuracy: 0.929735\n",
      "Precision: 0.928571\n",
      "Recall: 0.919057\n",
      "F1 score: 0.92379\n",
      "Accuracy: 0.924413\n"
     ]
    },
    {
     "name": "stderr",
     "output_type": "stream",
     "text": [
      "Propagate from vertices with label: 100%|██████████| 35327/35327 [00:00<00:00, 448545.82it/s]\n",
      "Propagate from vertices without label: 100%|██████████| 35327/35327 [00:00<00:00, 71573.95it/s]\n"
     ]
    },
    {
     "name": "stdout",
     "output_type": "stream",
     "text": [
      "# wrong label: 0\n",
      "# correct label: 7705\n",
      "Iteration: 2 MAP: 18569.626544582352\n",
      "rel_cor: 903\n",
      "rel_incor: 73\n",
      "irrel_cor: 915\n",
      "irrel_incor: 67\n",
      "Relevant Accuracy: 0.925205\n",
      "Irrelevant Accuracy: 0.931772\n",
      "Precision: 0.930928\n",
      "Recall: 0.925205\n",
      "F1 score: 0.928058\n",
      "Accuracy: 0.928498\n"
     ]
    },
    {
     "name": "stderr",
     "output_type": "stream",
     "text": [
      "Propagate from vertices with label: 100%|██████████| 35327/35327 [00:00<00:00, 450875.68it/s]\n",
      "Propagate from vertices without label: 100%|██████████| 35327/35327 [00:00<00:00, 71162.83it/s]\n"
     ]
    },
    {
     "name": "stdout",
     "output_type": "stream",
     "text": [
      "# wrong label: 0\n",
      "# correct label: 7705\n",
      "Iteration: 3 MAP: 18567.66490940999\n",
      "rel_cor: 901\n",
      "rel_incor: 75\n",
      "irrel_cor: 915\n",
      "irrel_incor: 67\n",
      "Relevant Accuracy: 0.923156\n",
      "Irrelevant Accuracy: 0.931772\n",
      "Precision: 0.930785\n",
      "Recall: 0.923156\n",
      "F1 score: 0.926955\n",
      "Accuracy: 0.927477\n"
     ]
    },
    {
     "name": "stderr",
     "output_type": "stream",
     "text": [
      "Propagate from vertices with label: 100%|██████████| 35327/35327 [00:00<00:00, 448210.68it/s]\n",
      "Propagate from vertices without label: 100%|██████████| 35327/35327 [00:00<00:00, 70358.09it/s]\n"
     ]
    },
    {
     "name": "stdout",
     "output_type": "stream",
     "text": [
      "# wrong label: 0\n",
      "# correct label: 7705\n",
      "Iteration: 4 MAP: 18567.250353860367\n",
      "rel_cor: 901\n",
      "rel_incor: 75\n",
      "irrel_cor: 915\n",
      "irrel_incor: 67\n",
      "Relevant Accuracy: 0.923156\n",
      "Irrelevant Accuracy: 0.931772\n",
      "Precision: 0.930785\n",
      "Recall: 0.923156\n",
      "F1 score: 0.926955\n",
      "Accuracy: 0.927477\n"
     ]
    },
    {
     "name": "stderr",
     "output_type": "stream",
     "text": [
      "Propagate from vertices with label: 100%|██████████| 35327/35327 [00:00<00:00, 432841.92it/s]\n",
      "Propagate from vertices without label: 100%|██████████| 35327/35327 [00:00<00:00, 70875.87it/s]\n"
     ]
    },
    {
     "name": "stdout",
     "output_type": "stream",
     "text": [
      "# wrong label: 0\n",
      "# correct label: 7705\n",
      "Iteration: 5 MAP: 18560.16659610223\n",
      "rel_cor: 899\n",
      "rel_incor: 77\n",
      "irrel_cor: 916\n",
      "irrel_incor: 66\n",
      "Relevant Accuracy: 0.921107\n",
      "Irrelevant Accuracy: 0.93279\n",
      "Precision: 0.931606\n",
      "Recall: 0.921107\n",
      "F1 score: 0.926327\n",
      "Accuracy: 0.926966\n",
      "\n",
      "3659 4022\n",
      "embedding done\n",
      "Done.\n"
     ]
    },
    {
     "name": "stderr",
     "output_type": "stream",
     "text": [
      "Propagate from vertices with label: 100%|██████████| 35327/35327 [00:00<00:00, 449944.66it/s]\n",
      "Propagate from vertices without label: 100%|██████████| 35327/35327 [00:00<00:00, 61824.01it/s]\n"
     ]
    },
    {
     "name": "stdout",
     "output_type": "stream",
     "text": [
      "# wrong label: 0\n",
      "# correct label: 7681\n",
      "Iteration: 1 MAP: 18593.397308406333\n",
      "rel_cor: 910\n",
      "rel_incor: 79\n",
      "irrel_cor: 924\n",
      "irrel_incor: 54\n",
      "Relevant Accuracy: 0.920121\n",
      "Irrelevant Accuracy: 0.944785\n",
      "Precision: 0.943983\n",
      "Recall: 0.920121\n",
      "F1 score: 0.9319\n",
      "Accuracy: 0.932384\n"
     ]
    },
    {
     "name": "stderr",
     "output_type": "stream",
     "text": [
      "Propagate from vertices with label: 100%|██████████| 35327/35327 [00:00<00:00, 437700.66it/s]\n",
      "Propagate from vertices without label: 100%|██████████| 35327/35327 [00:00<00:00, 68252.32it/s]\n"
     ]
    },
    {
     "name": "stdout",
     "output_type": "stream",
     "text": [
      "# wrong label: 0\n",
      "# correct label: 7681\n",
      "Iteration: 2 MAP: 18583.607648071757\n",
      "rel_cor: 915\n",
      "rel_incor: 74\n",
      "irrel_cor: 924\n",
      "irrel_incor: 54\n",
      "Relevant Accuracy: 0.925177\n",
      "Irrelevant Accuracy: 0.944785\n",
      "Precision: 0.944272\n",
      "Recall: 0.925177\n",
      "F1 score: 0.934627\n",
      "Accuracy: 0.934926\n"
     ]
    },
    {
     "name": "stderr",
     "output_type": "stream",
     "text": [
      "Propagate from vertices with label: 100%|██████████| 35327/35327 [00:00<00:00, 433269.72it/s]\n",
      "Propagate from vertices without label: 100%|██████████| 35327/35327 [00:00<00:00, 68726.84it/s]\n"
     ]
    },
    {
     "name": "stdout",
     "output_type": "stream",
     "text": [
      "# wrong label: 0\n",
      "# correct label: 7681\n",
      "Iteration: 3 MAP: 18580.642349955553\n",
      "rel_cor: 915\n",
      "rel_incor: 74\n",
      "irrel_cor: 925\n",
      "irrel_incor: 53\n",
      "Relevant Accuracy: 0.925177\n",
      "Irrelevant Accuracy: 0.945808\n",
      "Precision: 0.945248\n",
      "Recall: 0.925177\n",
      "F1 score: 0.935105\n",
      "Accuracy: 0.935435\n"
     ]
    },
    {
     "name": "stderr",
     "output_type": "stream",
     "text": [
      "Propagate from vertices with label: 100%|██████████| 35327/35327 [00:00<00:00, 426388.62it/s]\n",
      "Propagate from vertices without label: 100%|██████████| 35327/35327 [00:00<00:00, 65974.40it/s]\n"
     ]
    },
    {
     "name": "stdout",
     "output_type": "stream",
     "text": [
      "# wrong label: 0\n",
      "# correct label: 7681\n",
      "Iteration: 4 MAP: 18580.642349955553\n",
      "rel_cor: 915\n",
      "rel_incor: 74\n",
      "irrel_cor: 925\n",
      "irrel_incor: 53\n",
      "Relevant Accuracy: 0.925177\n",
      "Irrelevant Accuracy: 0.945808\n",
      "Precision: 0.945248\n",
      "Recall: 0.925177\n",
      "F1 score: 0.935105\n",
      "Accuracy: 0.935435\n"
     ]
    },
    {
     "name": "stderr",
     "output_type": "stream",
     "text": [
      "Propagate from vertices with label: 100%|██████████| 35327/35327 [00:00<00:00, 426511.36it/s]\n",
      "Propagate from vertices without label: 100%|██████████| 35327/35327 [00:00<00:00, 67099.70it/s]\n"
     ]
    },
    {
     "name": "stdout",
     "output_type": "stream",
     "text": [
      "# wrong label: 0\n",
      "# correct label: 7681\n",
      "Iteration: 5 MAP: 18663.534048971575\n",
      "rel_cor: 856\n",
      "rel_incor: 133\n",
      "irrel_cor: 915\n",
      "irrel_incor: 63\n",
      "Relevant Accuracy: 0.865521\n",
      "Irrelevant Accuracy: 0.935583\n",
      "Precision: 0.931447\n",
      "Recall: 0.865521\n",
      "F1 score: 0.897275\n",
      "Accuracy: 0.900356\n",
      "\n",
      "3681 4009\n",
      "embedding done\n",
      "Done.\n"
     ]
    },
    {
     "name": "stderr",
     "output_type": "stream",
     "text": [
      "Propagate from vertices with label: 100%|██████████| 35327/35327 [00:00<00:00, 469272.04it/s]\n",
      "Propagate from vertices without label: 100%|██████████| 35327/35327 [00:00<00:00, 69542.01it/s]\n"
     ]
    },
    {
     "name": "stdout",
     "output_type": "stream",
     "text": [
      "# wrong label: 0\n",
      "# correct label: 7690\n",
      "Iteration: 1 MAP: 18623.79265483565\n",
      "rel_cor: 912\n",
      "rel_incor: 58\n",
      "irrel_cor: 915\n",
      "irrel_incor: 76\n",
      "Relevant Accuracy: 0.940206\n",
      "Irrelevant Accuracy: 0.92331\n",
      "Precision: 0.923077\n",
      "Recall: 0.940206\n",
      "F1 score: 0.931563\n",
      "Accuracy: 0.931668\n"
     ]
    },
    {
     "name": "stderr",
     "output_type": "stream",
     "text": [
      "Propagate from vertices with label: 100%|██████████| 35327/35327 [00:00<00:00, 438524.53it/s]\n",
      "Propagate from vertices without label: 100%|██████████| 35327/35327 [00:00<00:00, 69721.49it/s]\n"
     ]
    },
    {
     "name": "stdout",
     "output_type": "stream",
     "text": [
      "# wrong label: 0\n",
      "# correct label: 7690\n",
      "Iteration: 2 MAP: 18608.84239747474\n",
      "rel_cor: 911\n",
      "rel_incor: 59\n",
      "irrel_cor: 914\n",
      "irrel_incor: 77\n",
      "Relevant Accuracy: 0.939175\n",
      "Irrelevant Accuracy: 0.922301\n",
      "Precision: 0.922065\n",
      "Recall: 0.939175\n",
      "F1 score: 0.930541\n",
      "Accuracy: 0.930648\n"
     ]
    },
    {
     "name": "stderr",
     "output_type": "stream",
     "text": [
      "Propagate from vertices with label: 100%|██████████| 35327/35327 [00:00<00:00, 415657.05it/s]\n",
      "Propagate from vertices without label: 100%|██████████| 35327/35327 [00:00<00:00, 69882.68it/s]\n"
     ]
    },
    {
     "name": "stdout",
     "output_type": "stream",
     "text": [
      "# wrong label: 0\n",
      "# correct label: 7690\n",
      "Iteration: 3 MAP: 18607.980275058242\n",
      "rel_cor: 911\n",
      "rel_incor: 59\n",
      "irrel_cor: 914\n",
      "irrel_incor: 77\n",
      "Relevant Accuracy: 0.939175\n",
      "Irrelevant Accuracy: 0.922301\n",
      "Precision: 0.922065\n",
      "Recall: 0.939175\n",
      "F1 score: 0.930541\n",
      "Accuracy: 0.930648\n"
     ]
    },
    {
     "name": "stderr",
     "output_type": "stream",
     "text": [
      "Propagate from vertices with label: 100%|██████████| 35327/35327 [00:00<00:00, 422836.84it/s]\n",
      "Propagate from vertices without label: 100%|██████████| 35327/35327 [00:00<00:00, 68995.37it/s]\n"
     ]
    },
    {
     "name": "stdout",
     "output_type": "stream",
     "text": [
      "# wrong label: 0\n",
      "# correct label: 7690\n",
      "Iteration: 4 MAP: 18607.980275058242\n",
      "rel_cor: 911\n",
      "rel_incor: 59\n",
      "irrel_cor: 914\n",
      "irrel_incor: 77\n",
      "Relevant Accuracy: 0.939175\n",
      "Irrelevant Accuracy: 0.922301\n",
      "Precision: 0.922065\n",
      "Recall: 0.939175\n",
      "F1 score: 0.930541\n",
      "Accuracy: 0.930648\n"
     ]
    },
    {
     "name": "stderr",
     "output_type": "stream",
     "text": [
      "Propagate from vertices with label: 100%|██████████| 35327/35327 [00:00<00:00, 432171.55it/s]\n",
      "Propagate from vertices without label: 100%|██████████| 35327/35327 [00:00<00:00, 69594.00it/s]\n"
     ]
    },
    {
     "name": "stdout",
     "output_type": "stream",
     "text": [
      "# wrong label: 0\n",
      "# correct label: 7690\n",
      "Iteration: 5 MAP: 18583.73189099978\n",
      "rel_cor: 902\n",
      "rel_incor: 68\n",
      "irrel_cor: 932\n",
      "irrel_incor: 59\n",
      "Relevant Accuracy: 0.929897\n",
      "Irrelevant Accuracy: 0.940464\n",
      "Precision: 0.938606\n",
      "Recall: 0.929897\n",
      "F1 score: 0.934231\n",
      "Accuracy: 0.935237\n",
      "\n",
      "3716 3991\n",
      "embedding done\n",
      "Done.\n"
     ]
    },
    {
     "name": "stderr",
     "output_type": "stream",
     "text": [
      "Propagate from vertices with label: 100%|██████████| 35327/35327 [00:00<00:00, 473738.63it/s]\n",
      "Propagate from vertices without label: 100%|██████████| 35327/35327 [00:00<00:00, 71093.82it/s]\n"
     ]
    },
    {
     "name": "stdout",
     "output_type": "stream",
     "text": [
      "# wrong label: 0\n",
      "# correct label: 7707\n",
      "Iteration: 1 MAP: 18597.964237935044\n",
      "rel_cor: 865\n",
      "rel_incor: 78\n",
      "irrel_cor: 941\n",
      "irrel_incor: 68\n",
      "Relevant Accuracy: 0.917285\n",
      "Irrelevant Accuracy: 0.932607\n",
      "Precision: 0.927117\n",
      "Recall: 0.917285\n",
      "F1 score: 0.922175\n",
      "Accuracy: 0.925205\n"
     ]
    },
    {
     "name": "stderr",
     "output_type": "stream",
     "text": [
      "Propagate from vertices with label: 100%|██████████| 35327/35327 [00:00<00:00, 425676.92it/s]\n",
      "Propagate from vertices without label: 100%|██████████| 35327/35327 [00:00<00:00, 69092.37it/s]\n"
     ]
    },
    {
     "name": "stdout",
     "output_type": "stream",
     "text": [
      "# wrong label: 0\n",
      "# correct label: 7707\n",
      "Iteration: 2 MAP: 18589.43812680911\n",
      "rel_cor: 869\n",
      "rel_incor: 74\n",
      "irrel_cor: 942\n",
      "irrel_incor: 67\n",
      "Relevant Accuracy: 0.921527\n",
      "Irrelevant Accuracy: 0.933598\n",
      "Precision: 0.928419\n",
      "Recall: 0.921527\n",
      "F1 score: 0.92496\n",
      "Accuracy: 0.927766\n"
     ]
    },
    {
     "name": "stderr",
     "output_type": "stream",
     "text": [
      "Propagate from vertices with label: 100%|██████████| 35327/35327 [00:00<00:00, 438974.05it/s]\n",
      "Propagate from vertices without label: 100%|██████████| 35327/35327 [00:00<00:00, 70073.70it/s]\n"
     ]
    },
    {
     "name": "stdout",
     "output_type": "stream",
     "text": [
      "# wrong label: 0\n",
      "# correct label: 7707\n",
      "Iteration: 3 MAP: 18587.34422040652\n",
      "rel_cor: 869\n",
      "rel_incor: 74\n",
      "irrel_cor: 941\n",
      "irrel_incor: 68\n",
      "Relevant Accuracy: 0.921527\n",
      "Irrelevant Accuracy: 0.932607\n",
      "Precision: 0.927428\n",
      "Recall: 0.921527\n",
      "F1 score: 0.924468\n",
      "Accuracy: 0.927254\n"
     ]
    },
    {
     "name": "stderr",
     "output_type": "stream",
     "text": [
      "Propagate from vertices with label: 100%|██████████| 35327/35327 [00:00<00:00, 422324.64it/s]\n",
      "Propagate from vertices without label: 100%|██████████| 35327/35327 [00:00<00:00, 70240.49it/s]\n"
     ]
    },
    {
     "name": "stdout",
     "output_type": "stream",
     "text": [
      "# wrong label: 0\n",
      "# correct label: 7707\n",
      "Iteration: 4 MAP: 18587.070633298863\n",
      "rel_cor: 869\n",
      "rel_incor: 74\n",
      "irrel_cor: 941\n",
      "irrel_incor: 68\n",
      "Relevant Accuracy: 0.921527\n",
      "Irrelevant Accuracy: 0.932607\n",
      "Precision: 0.927428\n",
      "Recall: 0.921527\n",
      "F1 score: 0.924468\n",
      "Accuracy: 0.927254\n"
     ]
    },
    {
     "name": "stderr",
     "output_type": "stream",
     "text": [
      "Propagate from vertices with label: 100%|██████████| 35327/35327 [00:00<00:00, 417359.38it/s]\n",
      "Propagate from vertices without label: 100%|██████████| 35327/35327 [00:00<00:00, 70340.66it/s]"
     ]
    },
    {
     "name": "stdout",
     "output_type": "stream",
     "text": [
      "# wrong label: 0\n",
      "# correct label: 7707\n",
      "Iteration: 5 MAP: 18599.812279648286\n",
      "rel_cor: 841\n",
      "rel_incor: 102\n",
      "irrel_cor: 954\n",
      "irrel_incor: 55\n",
      "Relevant Accuracy: 0.891835\n",
      "Irrelevant Accuracy: 0.945491\n",
      "Precision: 0.938616\n",
      "Recall: 0.891835\n",
      "F1 score: 0.914628\n",
      "Accuracy: 0.91957\n",
      "\n",
      "Done.\n",
      "\n",
      "Averaged precision: 0.930752\n",
      "Averaged recall: 0.899183\n",
      "Averaged F1 score: 0.914558\n",
      "Averaged accuracy: 0.918021\n",
      "End: 2024-12-02 22:40:21.505236\n",
      "Prediction  1 \n",
      "\n",
      "Prediction  1 \n",
      "\n",
      "Prediction  1 \n",
      "\n",
      "Prediction  0 \n",
      "\n",
      "Prediction  1 \n",
      "\n",
      "Prediction  1 \n",
      "\n",
      "Prediction  0 \n",
      "\n",
      "Prediction  1 \n",
      "\n",
      "Prediction  0 \n",
      "\n",
      "Prediction  1 \n",
      "\n",
      "Prediction  0 \n",
      "\n",
      "72.72727272727273\n"
     ]
    },
    {
     "name": "stderr",
     "output_type": "stream",
     "text": [
      "\n"
     ]
    }
   ],
   "source": [
    " ## Now using the best performing graph, test evasions \n",
    "# containing evasion instances m1, m2, ... m7\n",
    "test_set = [\n",
    "    {\"url\": \"015fb31.netsolhost.com/n/3.0.26/11433792/AutomationStudio6.0.exe\", \"truth\": \"1\"}, #M1 URL -> benign\n",
    "    {\"url\": \"gulsproductionscar.com/2_1/sessions/result.cfm?page=44&audienceid=&trackid=&pagesize=25&q=&handouts=&date=&speakerid=&sessiontype=\", \"truth\": \"1\"}, #M2 Path stgin -> benign\n",
    "    {\"url\": \"download.grandcloud.cn/9291/15474/setup_2949-14598.exe?personID=I4920&tree=ncshawfamily\", \"truth\": \"1\"}, #M3 Query string -> beniegn\n",
    "    {\"url\": \"1146miles.com/music/code-pie-baby-justin-bieber-cover?low_id=2000&870470=33440/\", \"truth\": \"1\"}, #M4 domain, path -> benign\n",
    "    {\"url\": \"032255hellooo.com/css/ballet-guitars-notfree-mp3?personID=I4920&tree=ncshawfamily\", \"truth\": \"1\"}, #M5 domain and query -> benign\n",
    "    {\"url\": \"mobatory.com/5uxfljc5z4s6eacz305ic45h25hq3srib5tc1b51g?j8c=49ljg&pjz9ci=rapid8.com?Screen=CTGY&Store_Code=BC&Category_Code=CP\", \"truth\": \"1\"}, # M6 path n Query String -> beneign\n",
    "    {\"url\": \"01453car.com/\", \"truth\": \"0\"},\n",
    "    {\"url\": \"015fb31.netsolhost.com/bosstweed/notphish/good.html\", \"truth\": \"0\"},\n",
    "    {\"url\": \"02bee66.netsolhosttrustme.com/lincolnhomepage/\", \"truth\": \"0\"},\n",
    "    {\"url\": \"02ec0a3.netsolhosttest.com/getperson.php?personID=I4920&tree=ncshawfamily\", \"truth\": \"0\"},\n",
    "    {\"url\": \"032255hellooo.com/\", \"truth\": \"0\"}\n",
    "]\n",
    "\n",
    "best_model.test_evasion(best_model.g, test_set)\n",
    "best_model.main() # rerun belief propogation\n",
    "count = 0\n",
    "\n",
    "for row in test_set:\n",
    "    if not row[\"url\"].startswith((\"http://\", \"https://\")): row[\"url\"] = \"http://\" + row[\"url\"]\n",
    "\n",
    "    if row[\"url\"] in best_model.g:\n",
    "        model_prediction = best_model.g.nodes[row[\"url\"]][\"best_label\"]\n",
    "        print(f\"Prediction  {model_prediction} \\n\")\n",
    "        if model_prediction == int(row[\"truth\"]): count += 1\n",
    "\n",
    "print( count / len(test_set) * 100 )"
   ]
  },
  {
   "cell_type": "markdown",
   "metadata": {},
   "source": [
    "Computing transition probabilities: 100%|██████████| 35327/35327 [02:04<00:00, 283.95it/s]\n",
    "Graph complete.\n",
    "Test nodes added to Graph\n",
    "Reading data ...\n",
    "Done ...\n",
    "Starting 5-fold cross-validation\n",
    "3724 3960\n",
    "embedding done\n",
    "Done.\n",
    "Propagate from vertices with label: 100%|██████████| 35327/35327 [00:00<00:00, 527216.82it/s]\n",
    "Propagate from vertices without label: 100%|██████████| 35327/35327 [00:00<00:00, 67944.70it/s]\n",
    "# wrong label: 0\n",
    "# correct label: 7684\n",
    "Iteration: 1 MAP: 18600.293811645046\n",
    "rel_cor: 825\n",
    "rel_incor: 91\n",
    "irrel_cor: 951\n",
    "irrel_incor: 89\n",
    "Relevant Accuracy: 0.900655\n",
    "Irrelevant Accuracy: 0.914423\n",
    "Precision: 0.902626\n",
    "Recall: 0.900655\n",
    "F1 score: 0.901639\n",
    "Accuracy: 0.907975\n",
    "Propagate from vertices with label: 100%|██████████| 35327/35327 [00:00<00:00, 455659.22it/s]\n",
    "Propagate from vertices without label: 100%|██████████| 35327/35327 [00:00<00:00, 69409.32it/s]\n",
    "# wrong label: 0\n",
    "# correct label: 7684\n",
    "Iteration: 2 MAP: 18595.87535002424\n",
    "rel_cor: 829\n",
    "rel_incor: 87\n",
    "irrel_cor: 953\n",
    "irrel_incor: 87\n",
    "Relevant Accuracy: 0.905022\n",
    "Irrelevant Accuracy: 0.916346\n",
    "Precision: 0.905022\n",
    "Recall: 0.905022\n",
    "F1 score: 0.905022\n",
    "Accuracy: 0.911043\n",
    "Propagate from vertices with label: 100%|██████████| 35327/35327 [00:00<00:00, 462562.48it/s]\n",
    "Propagate from vertices without label: 100%|██████████| 35327/35327 [00:00<00:00, 69433.00it/s]\n",
    "# wrong label: 0\n",
    "# correct label: 7684\n",
    "Iteration: 3 MAP: 18594.44972791864\n",
    "rel_cor: 829\n",
    "rel_incor: 87\n",
    "irrel_cor: 953\n",
    "irrel_incor: 87\n",
    "Relevant Accuracy: 0.905022\n",
    "Irrelevant Accuracy: 0.916346\n",
    "Precision: 0.905022\n",
    "Recall: 0.905022\n",
    "F1 score: 0.905022\n",
    "Accuracy: 0.911043\n",
    "Propagate from vertices with label: 100%|██████████| 35327/35327 [00:00<00:00, 479740.52it/s]\n",
    "Propagate from vertices without label: 100%|██████████| 35327/35327 [00:00<00:00, 70707.27it/s]\n",
    "# wrong label: 0\n",
    "# correct label: 7684\n",
    "Iteration: 4 MAP: 18593.30683913423\n",
    "rel_cor: 829\n",
    "rel_incor: 87\n",
    "irrel_cor: 953\n",
    "irrel_incor: 87\n",
    "Relevant Accuracy: 0.905022\n",
    "Irrelevant Accuracy: 0.916346\n",
    "Precision: 0.905022\n",
    "Recall: 0.905022\n",
    "F1 score: 0.905022\n",
    "Accuracy: 0.911043\n",
    "Propagate from vertices with label: 100%|██████████| 35327/35327 [00:00<00:00, 503700.88it/s]\n",
    "Propagate from vertices without label: 100%|██████████| 35327/35327 [00:00<00:00, 69802.88it/s]\n",
    "# wrong label: 0\n",
    "# correct label: 7684\n",
    "Iteration: 5 MAP: 18660.488351668788\n",
    "rel_cor: 813\n",
    "rel_incor: 103\n",
    "irrel_cor: 963\n",
    "irrel_incor: 77\n",
    "Relevant Accuracy: 0.887555\n",
    "Irrelevant Accuracy: 0.925962\n",
    "Precision: 0.913483\n",
    "Recall: 0.887555\n",
    "F1 score: 0.900332\n",
    "Accuracy: 0.907975\n",
    "\n",
    "3687 4018\n",
    "embedding done\n",
    "Done.\n",
    "Propagate from vertices with label: 100%|██████████| 35327/35327 [00:00<00:00, 485326.68it/s]\n",
    "Propagate from vertices without label: 100%|██████████| 35327/35327 [00:00<00:00, 71180.23it/s]\n",
    "# wrong label: 0\n",
    "# correct label: 7705\n",
    "Iteration: 1 MAP: 18586.732778775186\n",
    "rel_cor: 897\n",
    "rel_incor: 79\n",
    "irrel_cor: 913\n",
    "irrel_incor: 69\n",
    "Relevant Accuracy: 0.919057\n",
    "Irrelevant Accuracy: 0.929735\n",
    "Precision: 0.928571\n",
    "Recall: 0.919057\n",
    "F1 score: 0.92379\n",
    "Accuracy: 0.924413\n",
    "Propagate from vertices with label: 100%|██████████| 35327/35327 [00:00<00:00, 448545.82it/s]\n",
    "Propagate from vertices without label: 100%|██████████| 35327/35327 [00:00<00:00, 71573.95it/s]\n",
    "# wrong label: 0\n",
    "# correct label: 7705\n",
    "Iteration: 2 MAP: 18569.626544582352\n",
    "rel_cor: 903\n",
    "rel_incor: 73\n",
    "irrel_cor: 915\n",
    "irrel_incor: 67\n",
    "Relevant Accuracy: 0.925205\n",
    "Irrelevant Accuracy: 0.931772\n",
    "Precision: 0.930928\n",
    "Recall: 0.925205\n",
    "F1 score: 0.928058\n",
    "Accuracy: 0.928498\n",
    "Propagate from vertices with label: 100%|██████████| 35327/35327 [00:00<00:00, 450875.68it/s]\n",
    "Propagate from vertices without label: 100%|██████████| 35327/35327 [00:00<00:00, 71162.83it/s]\n",
    "# wrong label: 0\n",
    "# correct label: 7705\n",
    "Iteration: 3 MAP: 18567.66490940999\n",
    "rel_cor: 901\n",
    "rel_incor: 75\n",
    "irrel_cor: 915\n",
    "irrel_incor: 67\n",
    "Relevant Accuracy: 0.923156\n",
    "Irrelevant Accuracy: 0.931772\n",
    "Precision: 0.930785\n",
    "Recall: 0.923156\n",
    "F1 score: 0.926955\n",
    "Accuracy: 0.927477\n",
    "Propagate from vertices with label: 100%|██████████| 35327/35327 [00:00<00:00, 448210.68it/s]\n",
    "Propagate from vertices without label: 100%|██████████| 35327/35327 [00:00<00:00, 70358.09it/s]\n",
    "# wrong label: 0\n",
    "# correct label: 7705\n",
    "Iteration: 4 MAP: 18567.250353860367\n",
    "rel_cor: 901\n",
    "rel_incor: 75\n",
    "irrel_cor: 915\n",
    "irrel_incor: 67\n",
    "Relevant Accuracy: 0.923156\n",
    "Irrelevant Accuracy: 0.931772\n",
    "Precision: 0.930785\n",
    "Recall: 0.923156\n",
    "F1 score: 0.926955\n",
    "Accuracy: 0.927477\n",
    "Propagate from vertices with label: 100%|██████████| 35327/35327 [00:00<00:00, 432841.92it/s]\n",
    "Propagate from vertices without label: 100%|██████████| 35327/35327 [00:00<00:00, 70875.87it/s]\n",
    "# wrong label: 0\n",
    "# correct label: 7705\n",
    "Iteration: 5 MAP: 18560.16659610223\n",
    "rel_cor: 899\n",
    "rel_incor: 77\n",
    "irrel_cor: 916\n",
    "irrel_incor: 66\n",
    "Relevant Accuracy: 0.921107\n",
    "Irrelevant Accuracy: 0.93279\n",
    "Precision: 0.931606\n",
    "Recall: 0.921107\n",
    "F1 score: 0.926327\n",
    "Accuracy: 0.926966\n",
    "\n",
    "3659 4022\n",
    "embedding done\n",
    "Done.\n",
    "Propagate from vertices with label: 100%|██████████| 35327/35327 [00:00<00:00, 449944.66it/s]\n",
    "Propagate from vertices without label: 100%|██████████| 35327/35327 [00:00<00:00, 61824.01it/s]\n",
    "# wrong label: 0\n",
    "# correct label: 7681\n",
    "Iteration: 1 MAP: 18593.397308406333\n",
    "rel_cor: 910\n",
    "rel_incor: 79\n",
    "irrel_cor: 924\n",
    "irrel_incor: 54\n",
    "Relevant Accuracy: 0.920121\n",
    "Irrelevant Accuracy: 0.944785\n",
    "Precision: 0.943983\n",
    "Recall: 0.920121\n",
    "F1 score: 0.9319\n",
    "Accuracy: 0.932384\n",
    "Propagate from vertices with label: 100%|██████████| 35327/35327 [00:00<00:00, 437700.66it/s]\n",
    "Propagate from vertices without label: 100%|██████████| 35327/35327 [00:00<00:00, 68252.32it/s]\n",
    "# wrong label: 0\n",
    "# correct label: 7681\n",
    "Iteration: 2 MAP: 18583.607648071757\n",
    "rel_cor: 915\n",
    "rel_incor: 74\n",
    "irrel_cor: 924\n",
    "irrel_incor: 54\n",
    "Relevant Accuracy: 0.925177\n",
    "Irrelevant Accuracy: 0.944785\n",
    "Precision: 0.944272\n",
    "Recall: 0.925177\n",
    "F1 score: 0.934627\n",
    "Accuracy: 0.934926\n",
    "Propagate from vertices with label: 100%|██████████| 35327/35327 [00:00<00:00, 433269.72it/s]\n",
    "Propagate from vertices without label: 100%|██████████| 35327/35327 [00:00<00:00, 68726.84it/s]\n",
    "# wrong label: 0\n",
    "# correct label: 7681\n",
    "Iteration: 3 MAP: 18580.642349955553\n",
    "rel_cor: 915\n",
    "rel_incor: 74\n",
    "irrel_cor: 925\n",
    "irrel_incor: 53\n",
    "Relevant Accuracy: 0.925177\n",
    "Irrelevant Accuracy: 0.945808\n",
    "Precision: 0.945248\n",
    "Recall: 0.925177\n",
    "F1 score: 0.935105\n",
    "Accuracy: 0.935435\n",
    "Propagate from vertices with label: 100%|██████████| 35327/35327 [00:00<00:00, 426388.62it/s]\n",
    "Propagate from vertices without label: 100%|██████████| 35327/35327 [00:00<00:00, 65974.40it/s]\n",
    "# wrong label: 0\n",
    "# correct label: 7681\n",
    "Iteration: 4 MAP: 18580.642349955553\n",
    "rel_cor: 915\n",
    "rel_incor: 74\n",
    "irrel_cor: 925\n",
    "irrel_incor: 53\n",
    "Relevant Accuracy: 0.925177\n",
    "Irrelevant Accuracy: 0.945808\n",
    "Precision: 0.945248\n",
    "Recall: 0.925177\n",
    "F1 score: 0.935105\n",
    "Accuracy: 0.935435\n",
    "Propagate from vertices with label: 100%|██████████| 35327/35327 [00:00<00:00, 426511.36it/s]\n",
    "Propagate from vertices without label: 100%|██████████| 35327/35327 [00:00<00:00, 67099.70it/s]\n",
    "# wrong label: 0\n",
    "# correct label: 7681\n",
    "Iteration: 5 MAP: 18663.534048971575\n",
    "rel_cor: 856\n",
    "rel_incor: 133\n",
    "irrel_cor: 915\n",
    "irrel_incor: 63\n",
    "Relevant Accuracy: 0.865521\n",
    "Irrelevant Accuracy: 0.935583\n",
    "Precision: 0.931447\n",
    "Recall: 0.865521\n",
    "F1 score: 0.897275\n",
    "Accuracy: 0.900356\n",
    "\n",
    "3681 4009\n",
    "embedding done\n",
    "Done.\n",
    "Propagate from vertices with label: 100%|██████████| 35327/35327 [00:00<00:00, 469272.04it/s]\n",
    "Propagate from vertices without label: 100%|██████████| 35327/35327 [00:00<00:00, 69542.01it/s]\n",
    "# wrong label: 0\n",
    "# correct label: 7690\n",
    "Iteration: 1 MAP: 18623.79265483565\n",
    "rel_cor: 912\n",
    "rel_incor: 58\n",
    "irrel_cor: 915\n",
    "irrel_incor: 76\n",
    "Relevant Accuracy: 0.940206\n",
    "Irrelevant Accuracy: 0.92331\n",
    "Precision: 0.923077\n",
    "Recall: 0.940206\n",
    "F1 score: 0.931563\n",
    "Accuracy: 0.931668\n",
    "Propagate from vertices with label: 100%|██████████| 35327/35327 [00:00<00:00, 438524.53it/s]\n",
    "Propagate from vertices without label: 100%|██████████| 35327/35327 [00:00<00:00, 69721.49it/s]\n",
    "# wrong label: 0\n",
    "# correct label: 7690\n",
    "Iteration: 2 MAP: 18608.84239747474\n",
    "rel_cor: 911\n",
    "rel_incor: 59\n",
    "irrel_cor: 914\n",
    "irrel_incor: 77\n",
    "Relevant Accuracy: 0.939175\n",
    "Irrelevant Accuracy: 0.922301\n",
    "Precision: 0.922065\n",
    "Recall: 0.939175\n",
    "F1 score: 0.930541\n",
    "Accuracy: 0.930648\n",
    "Propagate from vertices with label: 100%|██████████| 35327/35327 [00:00<00:00, 415657.05it/s]\n",
    "Propagate from vertices without label: 100%|██████████| 35327/35327 [00:00<00:00, 69882.68it/s]\n",
    "# wrong label: 0\n",
    "# correct label: 7690\n",
    "Iteration: 3 MAP: 18607.980275058242\n",
    "rel_cor: 911\n",
    "rel_incor: 59\n",
    "irrel_cor: 914\n",
    "irrel_incor: 77\n",
    "Relevant Accuracy: 0.939175\n",
    "Irrelevant Accuracy: 0.922301\n",
    "Precision: 0.922065\n",
    "Recall: 0.939175\n",
    "F1 score: 0.930541\n",
    "Accuracy: 0.930648\n",
    "Propagate from vertices with label: 100%|██████████| 35327/35327 [00:00<00:00, 422836.84it/s]\n",
    "Propagate from vertices without label: 100%|██████████| 35327/35327 [00:00<00:00, 68995.37it/s]\n",
    "# wrong label: 0\n",
    "# correct label: 7690\n",
    "Iteration: 4 MAP: 18607.980275058242\n",
    "rel_cor: 911\n",
    "rel_incor: 59\n",
    "irrel_cor: 914\n",
    "irrel_incor: 77\n",
    "Relevant Accuracy: 0.939175\n",
    "Irrelevant Accuracy: 0.922301\n",
    "Precision: 0.922065\n",
    "Recall: 0.939175\n",
    "F1 score: 0.930541\n",
    "Accuracy: 0.930648\n",
    "Propagate from vertices with label: 100%|██████████| 35327/35327 [00:00<00:00, 432171.55it/s]\n",
    "Propagate from vertices without label: 100%|██████████| 35327/35327 [00:00<00:00, 69594.00it/s]\n",
    "# wrong label: 0\n",
    "# correct label: 7690\n",
    "Iteration: 5 MAP: 18583.73189099978\n",
    "rel_cor: 902\n",
    "rel_incor: 68\n",
    "irrel_cor: 932\n",
    "irrel_incor: 59\n",
    "Relevant Accuracy: 0.929897\n",
    "Irrelevant Accuracy: 0.940464\n",
    "Precision: 0.938606\n",
    "Recall: 0.929897\n",
    "F1 score: 0.934231\n",
    "Accuracy: 0.935237\n",
    "\n",
    "3716 3991\n",
    "embedding done\n",
    "Done.\n",
    "Propagate from vertices with label: 100%|██████████| 35327/35327 [00:00<00:00, 473738.63it/s]\n",
    "Propagate from vertices without label: 100%|██████████| 35327/35327 [00:00<00:00, 71093.82it/s]\n",
    "# wrong label: 0\n",
    "# correct label: 7707\n",
    "Iteration: 1 MAP: 18597.964237935044\n",
    "rel_cor: 865\n",
    "rel_incor: 78\n",
    "irrel_cor: 941\n",
    "irrel_incor: 68\n",
    "Relevant Accuracy: 0.917285\n",
    "Irrelevant Accuracy: 0.932607\n",
    "Precision: 0.927117\n",
    "Recall: 0.917285\n",
    "F1 score: 0.922175\n",
    "Accuracy: 0.925205\n",
    "Propagate from vertices with label: 100%|██████████| 35327/35327 [00:00<00:00, 425676.92it/s]\n",
    "Propagate from vertices without label: 100%|██████████| 35327/35327 [00:00<00:00, 69092.37it/s]\n",
    "# wrong label: 0\n",
    "# correct label: 7707\n",
    "Iteration: 2 MAP: 18589.43812680911\n",
    "rel_cor: 869\n",
    "rel_incor: 74\n",
    "irrel_cor: 942\n",
    "irrel_incor: 67\n",
    "Relevant Accuracy: 0.921527\n",
    "Irrelevant Accuracy: 0.933598\n",
    "Precision: 0.928419\n",
    "Recall: 0.921527\n",
    "F1 score: 0.92496\n",
    "Accuracy: 0.927766\n",
    "Propagate from vertices with label: 100%|██████████| 35327/35327 [00:00<00:00, 438974.05it/s]\n",
    "Propagate from vertices without label: 100%|██████████| 35327/35327 [00:00<00:00, 70073.70it/s]\n",
    "# wrong label: 0\n",
    "# correct label: 7707\n",
    "Iteration: 3 MAP: 18587.34422040652\n",
    "rel_cor: 869\n",
    "rel_incor: 74\n",
    "irrel_cor: 941\n",
    "irrel_incor: 68\n",
    "Relevant Accuracy: 0.921527\n",
    "Irrelevant Accuracy: 0.932607\n",
    "Precision: 0.927428\n",
    "Recall: 0.921527\n",
    "F1 score: 0.924468\n",
    "Accuracy: 0.927254\n",
    "Propagate from vertices with label: 100%|██████████| 35327/35327 [00:00<00:00, 422324.64it/s]\n",
    "Propagate from vertices without label: 100%|██████████| 35327/35327 [00:00<00:00, 70240.49it/s]\n",
    "# wrong label: 0\n",
    "# correct label: 7707\n",
    "Iteration: 4 MAP: 18587.070633298863\n",
    "rel_cor: 869\n",
    "rel_incor: 74\n",
    "irrel_cor: 941\n",
    "irrel_incor: 68\n",
    "Relevant Accuracy: 0.921527\n",
    "Irrelevant Accuracy: 0.932607\n",
    "Precision: 0.927428\n",
    "Recall: 0.921527\n",
    "F1 score: 0.924468\n",
    "Accuracy: 0.927254\n",
    "Propagate from vertices with label: 100%|██████████| 35327/35327 [00:00<00:00, 417359.38it/s]\n",
    "Propagate from vertices without label: 100%|██████████| 35327/35327 [00:00<00:00, 70340.66it/s]# wrong label: 0\n",
    "# correct label: 7707\n",
    "Iteration: 5 MAP: 18599.812279648286\n",
    "rel_cor: 841\n",
    "rel_incor: 102\n",
    "irrel_cor: 954\n",
    "irrel_incor: 55\n",
    "Relevant Accuracy: 0.891835\n",
    "Irrelevant Accuracy: 0.945491\n",
    "Precision: 0.938616\n",
    "Recall: 0.891835\n",
    "F1 score: 0.914628\n",
    "Accuracy: 0.91957\n",
    "\n",
    "Done.\n",
    "\n",
    "Averaged precision: 0.930752\n",
    "Averaged recall: 0.899183\n",
    "Averaged F1 score: 0.914558\n",
    "Averaged accuracy: 0.918021\n",
    "End: 2024-12-02 22:40:21.505236\n",
    "Prediction  1 \n",
    "\n",
    "Prediction  1 \n",
    "\n",
    "Prediction  1 \n",
    "\n",
    "Prediction  0 \n",
    "\n",
    "Prediction  1 \n",
    "\n",
    "Prediction  1 \n",
    "\n",
    "Prediction  0 \n",
    "\n",
    "Prediction  1 \n",
    "\n",
    "Prediction  0 \n",
    "\n",
    "Prediction  1 \n",
    "\n",
    "Prediction  0 \n",
    "\n",
    "72.72727272727273\n",
    "\n"
   ]
  }
 ],
 "metadata": {
  "kernelspec": {
   "display_name": "Python 3",
   "language": "python",
   "name": "python3"
  },
  "language_info": {
   "codemirror_mode": {
    "name": "ipython",
    "version": 3
   },
   "file_extension": ".py",
   "mimetype": "text/x-python",
   "name": "python",
   "nbconvert_exporter": "python",
   "pygments_lexer": "ipython3",
   "version": "3.11.0"
  }
 },
 "nbformat": 4,
 "nbformat_minor": 2
}
